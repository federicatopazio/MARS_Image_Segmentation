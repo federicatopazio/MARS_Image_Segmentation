{
 "cells": [
  {
   "cell_type": "markdown",
   "metadata": {
    "id": "nuwVgG3Vbbka"
   },
   "source": [
    "# Artificial Neural Networks and Deep Learning\n",
    "\n",
    "---\n",
    "\n",
    "## Homework 2: Minimal Working Example\n",
    "\n",
    "To make your first submission, follow these steps:\n",
    "1. Create a folder named `[2024-2025] AN2DL/Homework 2` in your Google Drive.\n",
    "2. Upload the `mars_for_students.npz` file to this folder.\n",
    "3. Upload the Jupyter notebook `Homework 2 - Minimal Working Example.ipynb`.\n",
    "4. Load and process the data.\n",
    "5. Implement and train your model.\n",
    "6. Submit the generated `.csv` file to Kaggle."
   ]
  },
  {
   "cell_type": "markdown",
   "metadata": {
    "id": "d7IqZP5Iblna"
   },
   "source": [
    "## ⚙️ Import Libraries"
   ]
  },
  {
   "cell_type": "code",
   "execution_count": 1,
   "metadata": {
    "execution": {
     "iopub.execute_input": "2024-12-14T15:00:40.849508Z",
     "iopub.status.busy": "2024-12-14T15:00:40.848883Z",
     "iopub.status.idle": "2024-12-14T15:00:40.855971Z",
     "shell.execute_reply": "2024-12-14T15:00:40.855009Z",
     "shell.execute_reply.started": "2024-12-14T15:00:40.849477Z"
    },
    "id": "CO6_Ft_8T56A"
   },
   "outputs": [],
   "source": [
    "import os\n",
    "from datetime import datetime\n",
    "\n",
    "import numpy as np\n",
    "import pandas as pd\n",
    "import torch\n",
    "\n",
    "from tqdm import tqdm\n",
    "\n",
    "from torch.utils.data import DataLoader\n",
    "from pytorch_lightning.callbacks import EarlyStopping\n",
    "from torch.optim.lr_scheduler import ReduceLROnPlateau\n",
    "from torch.utils.data import TensorDataset\n",
    "from pytorch_lightning.callbacks import ModelCheckpoint\n",
    "\n",
    "import matplotlib.pyplot as plt\n",
    "%matplotlib inline\n",
    "\n"
   ]
  },
  {
   "cell_type": "code",
   "execution_count": 2,
   "metadata": {
    "execution": {
     "iopub.execute_input": "2024-12-14T15:00:40.857602Z",
     "iopub.status.busy": "2024-12-14T15:00:40.857324Z",
     "iopub.status.idle": "2024-12-14T15:01:06.664127Z",
     "shell.execute_reply": "2024-12-14T15:01:06.663198Z",
     "shell.execute_reply.started": "2024-12-14T15:00:40.857563Z"
    }
   },
   "outputs": [
    {
     "name": "stdout",
     "output_type": "stream",
     "text": [
      "Collecting segmentation-models-pytorch\n",
      "  Downloading segmentation_models_pytorch-0.3.4-py3-none-any.whl.metadata (30 kB)\n",
      "Collecting efficientnet-pytorch==0.7.1 (from segmentation-models-pytorch)\n",
      "  Downloading efficientnet_pytorch-0.7.1.tar.gz (21 kB)\n",
      "  Preparing metadata (setup.py) ... \u001b[?25ldone\n",
      "\u001b[?25hRequirement already satisfied: huggingface-hub>=0.24.6 in /opt/conda/lib/python3.10/site-packages (from segmentation-models-pytorch) (0.25.1)\n",
      "Requirement already satisfied: pillow in /opt/conda/lib/python3.10/site-packages (from segmentation-models-pytorch) (10.3.0)\n",
      "Collecting pretrainedmodels==0.7.4 (from segmentation-models-pytorch)\n",
      "  Downloading pretrainedmodels-0.7.4.tar.gz (58 kB)\n",
      "\u001b[2K     \u001b[90m━━━━━━━━━━━━━━━━━━━━━━━━━━━━━━━━━━━━━━━━\u001b[0m \u001b[32m58.8/58.8 kB\u001b[0m \u001b[31m2.8 MB/s\u001b[0m eta \u001b[36m0:00:00\u001b[0m\n",
      "\u001b[?25h  Preparing metadata (setup.py) ... \u001b[?25ldone\n",
      "\u001b[?25hRequirement already satisfied: six in /opt/conda/lib/python3.10/site-packages (from segmentation-models-pytorch) (1.16.0)\n",
      "Collecting timm==0.9.7 (from segmentation-models-pytorch)\n",
      "  Downloading timm-0.9.7-py3-none-any.whl.metadata (58 kB)\n",
      "\u001b[2K     \u001b[90m━━━━━━━━━━━━━━━━━━━━━━━━━━━━━━━━━━━━━━━━\u001b[0m \u001b[32m58.8/58.8 kB\u001b[0m \u001b[31m3.6 MB/s\u001b[0m eta \u001b[36m0:00:00\u001b[0m\n",
      "\u001b[?25hRequirement already satisfied: torchvision>=0.5.0 in /opt/conda/lib/python3.10/site-packages (from segmentation-models-pytorch) (0.19.0)\n",
      "Requirement already satisfied: tqdm in /opt/conda/lib/python3.10/site-packages (from segmentation-models-pytorch) (4.66.4)\n",
      "Requirement already satisfied: torch in /opt/conda/lib/python3.10/site-packages (from efficientnet-pytorch==0.7.1->segmentation-models-pytorch) (2.4.0)\n",
      "Collecting munch (from pretrainedmodels==0.7.4->segmentation-models-pytorch)\n",
      "  Downloading munch-4.0.0-py2.py3-none-any.whl.metadata (5.9 kB)\n",
      "Requirement already satisfied: pyyaml in /opt/conda/lib/python3.10/site-packages (from timm==0.9.7->segmentation-models-pytorch) (6.0.2)\n",
      "Requirement already satisfied: safetensors in /opt/conda/lib/python3.10/site-packages (from timm==0.9.7->segmentation-models-pytorch) (0.4.5)\n",
      "Requirement already satisfied: filelock in /opt/conda/lib/python3.10/site-packages (from huggingface-hub>=0.24.6->segmentation-models-pytorch) (3.15.1)\n",
      "Requirement already satisfied: fsspec>=2023.5.0 in /opt/conda/lib/python3.10/site-packages (from huggingface-hub>=0.24.6->segmentation-models-pytorch) (2024.6.1)\n",
      "Requirement already satisfied: packaging>=20.9 in /opt/conda/lib/python3.10/site-packages (from huggingface-hub>=0.24.6->segmentation-models-pytorch) (21.3)\n",
      "Requirement already satisfied: requests in /opt/conda/lib/python3.10/site-packages (from huggingface-hub>=0.24.6->segmentation-models-pytorch) (2.32.3)\n",
      "Requirement already satisfied: typing-extensions>=3.7.4.3 in /opt/conda/lib/python3.10/site-packages (from huggingface-hub>=0.24.6->segmentation-models-pytorch) (4.12.2)\n",
      "Requirement already satisfied: numpy in /opt/conda/lib/python3.10/site-packages (from torchvision>=0.5.0->segmentation-models-pytorch) (1.26.4)\n",
      "Requirement already satisfied: pyparsing!=3.0.5,>=2.0.2 in /opt/conda/lib/python3.10/site-packages (from packaging>=20.9->huggingface-hub>=0.24.6->segmentation-models-pytorch) (3.1.2)\n",
      "Requirement already satisfied: sympy in /opt/conda/lib/python3.10/site-packages (from torch->efficientnet-pytorch==0.7.1->segmentation-models-pytorch) (1.13.3)\n",
      "Requirement already satisfied: networkx in /opt/conda/lib/python3.10/site-packages (from torch->efficientnet-pytorch==0.7.1->segmentation-models-pytorch) (3.3)\n",
      "Requirement already satisfied: jinja2 in /opt/conda/lib/python3.10/site-packages (from torch->efficientnet-pytorch==0.7.1->segmentation-models-pytorch) (3.1.4)\n",
      "Requirement already satisfied: charset-normalizer<4,>=2 in /opt/conda/lib/python3.10/site-packages (from requests->huggingface-hub>=0.24.6->segmentation-models-pytorch) (3.3.2)\n",
      "Requirement already satisfied: idna<4,>=2.5 in /opt/conda/lib/python3.10/site-packages (from requests->huggingface-hub>=0.24.6->segmentation-models-pytorch) (3.7)\n",
      "Requirement already satisfied: urllib3<3,>=1.21.1 in /opt/conda/lib/python3.10/site-packages (from requests->huggingface-hub>=0.24.6->segmentation-models-pytorch) (1.26.18)\n",
      "Requirement already satisfied: certifi>=2017.4.17 in /opt/conda/lib/python3.10/site-packages (from requests->huggingface-hub>=0.24.6->segmentation-models-pytorch) (2024.8.30)\n",
      "Requirement already satisfied: MarkupSafe>=2.0 in /opt/conda/lib/python3.10/site-packages (from jinja2->torch->efficientnet-pytorch==0.7.1->segmentation-models-pytorch) (2.1.5)\n",
      "Requirement already satisfied: mpmath<1.4,>=1.1.0 in /opt/conda/lib/python3.10/site-packages (from sympy->torch->efficientnet-pytorch==0.7.1->segmentation-models-pytorch) (1.3.0)\n",
      "Downloading segmentation_models_pytorch-0.3.4-py3-none-any.whl (109 kB)\n",
      "\u001b[2K   \u001b[90m━━━━━━━━━━━━━━━━━━━━━━━━━━━━━━━━━━━━━━━━\u001b[0m \u001b[32m109.5/109.5 kB\u001b[0m \u001b[31m6.4 MB/s\u001b[0m eta \u001b[36m0:00:00\u001b[0m\n",
      "\u001b[?25hDownloading timm-0.9.7-py3-none-any.whl (2.2 MB)\n",
      "\u001b[2K   \u001b[90m━━━━━━━━━━━━━━━━━━━━━━━━━━━━━━━━━━━━━━━━\u001b[0m \u001b[32m2.2/2.2 MB\u001b[0m \u001b[31m35.3 MB/s\u001b[0m eta \u001b[36m0:00:00\u001b[0ma \u001b[36m0:00:01\u001b[0m\n",
      "\u001b[?25hDownloading munch-4.0.0-py2.py3-none-any.whl (9.9 kB)\n",
      "Building wheels for collected packages: efficientnet-pytorch, pretrainedmodels\n",
      "  Building wheel for efficientnet-pytorch (setup.py) ... \u001b[?25ldone\n",
      "\u001b[?25h  Created wheel for efficientnet-pytorch: filename=efficientnet_pytorch-0.7.1-py3-none-any.whl size=16427 sha256=b385fdc0f395c20a900f79333a2c84b86ba54baf470f1e4c96e49d88b2d110f2\n",
      "  Stored in directory: /root/.cache/pip/wheels/03/3f/e9/911b1bc46869644912bda90a56bcf7b960f20b5187feea3baf\n",
      "  Building wheel for pretrainedmodels (setup.py) ... \u001b[?25ldone\n",
      "\u001b[?25h  Created wheel for pretrainedmodels: filename=pretrainedmodels-0.7.4-py3-none-any.whl size=60945 sha256=35204d851a615e4042d3a267774bbe3c0f14e9654f24a88c90a42c0ccab7515a\n",
      "  Stored in directory: /root/.cache/pip/wheels/35/cb/a5/8f534c60142835bfc889f9a482e4a67e0b817032d9c6883b64\n",
      "Successfully built efficientnet-pytorch pretrainedmodels\n",
      "Installing collected packages: munch, efficientnet-pytorch, timm, pretrainedmodels, segmentation-models-pytorch\n",
      "  Attempting uninstall: timm\n",
      "    Found existing installation: timm 1.0.9\n",
      "    Uninstalling timm-1.0.9:\n",
      "      Successfully uninstalled timm-1.0.9\n",
      "Successfully installed efficientnet-pytorch-0.7.1 munch-4.0.0 pretrainedmodels-0.7.4 segmentation-models-pytorch-0.3.4 timm-0.9.7\n",
      "Requirement already satisfied: pytorch-lightning in /opt/conda/lib/python3.10/site-packages (2.4.0)\n",
      "Requirement already satisfied: torch>=2.1.0 in /opt/conda/lib/python3.10/site-packages (from pytorch-lightning) (2.4.0)\n",
      "Requirement already satisfied: tqdm>=4.57.0 in /opt/conda/lib/python3.10/site-packages (from pytorch-lightning) (4.66.4)\n",
      "Requirement already satisfied: PyYAML>=5.4 in /opt/conda/lib/python3.10/site-packages (from pytorch-lightning) (6.0.2)\n",
      "Requirement already satisfied: fsspec>=2022.5.0 in /opt/conda/lib/python3.10/site-packages (from fsspec[http]>=2022.5.0->pytorch-lightning) (2024.6.1)\n",
      "Requirement already satisfied: torchmetrics>=0.7.0 in /opt/conda/lib/python3.10/site-packages (from pytorch-lightning) (1.4.2)\n",
      "Requirement already satisfied: packaging>=20.0 in /opt/conda/lib/python3.10/site-packages (from pytorch-lightning) (21.3)\n",
      "Requirement already satisfied: typing-extensions>=4.4.0 in /opt/conda/lib/python3.10/site-packages (from pytorch-lightning) (4.12.2)\n",
      "Requirement already satisfied: lightning-utilities>=0.10.0 in /opt/conda/lib/python3.10/site-packages (from pytorch-lightning) (0.11.7)\n",
      "Requirement already satisfied: aiohttp!=4.0.0a0,!=4.0.0a1 in /opt/conda/lib/python3.10/site-packages (from fsspec[http]>=2022.5.0->pytorch-lightning) (3.9.5)\n",
      "Requirement already satisfied: setuptools in /opt/conda/lib/python3.10/site-packages (from lightning-utilities>=0.10.0->pytorch-lightning) (70.0.0)\n",
      "Requirement already satisfied: pyparsing!=3.0.5,>=2.0.2 in /opt/conda/lib/python3.10/site-packages (from packaging>=20.0->pytorch-lightning) (3.1.2)\n",
      "Requirement already satisfied: filelock in /opt/conda/lib/python3.10/site-packages (from torch>=2.1.0->pytorch-lightning) (3.15.1)\n",
      "Requirement already satisfied: sympy in /opt/conda/lib/python3.10/site-packages (from torch>=2.1.0->pytorch-lightning) (1.13.3)\n",
      "Requirement already satisfied: networkx in /opt/conda/lib/python3.10/site-packages (from torch>=2.1.0->pytorch-lightning) (3.3)\n",
      "Requirement already satisfied: jinja2 in /opt/conda/lib/python3.10/site-packages (from torch>=2.1.0->pytorch-lightning) (3.1.4)\n",
      "Requirement already satisfied: numpy>1.20.0 in /opt/conda/lib/python3.10/site-packages (from torchmetrics>=0.7.0->pytorch-lightning) (1.26.4)\n",
      "Requirement already satisfied: aiosignal>=1.1.2 in /opt/conda/lib/python3.10/site-packages (from aiohttp!=4.0.0a0,!=4.0.0a1->fsspec[http]>=2022.5.0->pytorch-lightning) (1.3.1)\n",
      "Requirement already satisfied: attrs>=17.3.0 in /opt/conda/lib/python3.10/site-packages (from aiohttp!=4.0.0a0,!=4.0.0a1->fsspec[http]>=2022.5.0->pytorch-lightning) (23.2.0)\n",
      "Requirement already satisfied: frozenlist>=1.1.1 in /opt/conda/lib/python3.10/site-packages (from aiohttp!=4.0.0a0,!=4.0.0a1->fsspec[http]>=2022.5.0->pytorch-lightning) (1.4.1)\n",
      "Requirement already satisfied: multidict<7.0,>=4.5 in /opt/conda/lib/python3.10/site-packages (from aiohttp!=4.0.0a0,!=4.0.0a1->fsspec[http]>=2022.5.0->pytorch-lightning) (6.0.5)\n",
      "Requirement already satisfied: yarl<2.0,>=1.0 in /opt/conda/lib/python3.10/site-packages (from aiohttp!=4.0.0a0,!=4.0.0a1->fsspec[http]>=2022.5.0->pytorch-lightning) (1.9.4)\n",
      "Requirement already satisfied: async-timeout<5.0,>=4.0 in /opt/conda/lib/python3.10/site-packages (from aiohttp!=4.0.0a0,!=4.0.0a1->fsspec[http]>=2022.5.0->pytorch-lightning) (4.0.3)\n",
      "Requirement already satisfied: MarkupSafe>=2.0 in /opt/conda/lib/python3.10/site-packages (from jinja2->torch>=2.1.0->pytorch-lightning) (2.1.5)\n",
      "Requirement already satisfied: mpmath<1.4,>=1.1.0 in /opt/conda/lib/python3.10/site-packages (from sympy->torch>=2.1.0->pytorch-lightning) (1.3.0)\n",
      "Requirement already satisfied: idna>=2.0 in /opt/conda/lib/python3.10/site-packages (from yarl<2.0,>=1.0->aiohttp!=4.0.0a0,!=4.0.0a1->fsspec[http]>=2022.5.0->pytorch-lightning) (3.7)\n"
     ]
    }
   ],
   "source": [
    "!pip install segmentation-models-pytorch\n",
    "!pip install pytorch-lightning\n",
    "\n",
    "import pytorch_lightning as pl\n",
    "import segmentation_models_pytorch as smp"
   ]
  },
  {
   "cell_type": "markdown",
   "metadata": {},
   "source": [
    "## Choose parameters"
   ]
  },
  {
   "cell_type": "code",
   "execution_count": 3,
   "metadata": {
    "execution": {
     "iopub.execute_input": "2024-12-14T15:01:06.665680Z",
     "iopub.status.busy": "2024-12-14T15:01:06.665403Z",
     "iopub.status.idle": "2024-12-14T15:01:06.670408Z",
     "shell.execute_reply": "2024-12-14T15:01:06.669506Z",
     "shell.execute_reply.started": "2024-12-14T15:01:06.665649Z"
    }
   },
   "outputs": [],
   "source": [
    "# Define training params\n",
    "epochs = 1000\n",
    "batch_size = 128\n",
    "lr = 1e-3\n",
    "\n",
    "\n",
    "#Choose loss weight\n",
    "weight_dice = 1\n",
    "weight_focal = 1\n",
    "\n",
    "\n",
    "#Choose net from: unet, unetplusplus, manet, linknet, fpn, pspnet, pan, deeplabv3, deeplabv3+ \n",
    "net_name = 'pspnet'\n",
    "\n",
    "#Choose net parameters\n",
    "encoder_name='se_resnext101_32x4d' \n",
    "encoder_depth=3\n",
    "encoder_weights=None  \n",
    "decoder_use_batchnorm=False\n",
    "decoder_channels=(128, 64, 32)"
   ]
  },
  {
   "cell_type": "markdown",
   "metadata": {
    "id": "GN_cpHlSboXV"
   },
   "source": [
    "## ⏳ Load the Data"
   ]
  },
  {
   "cell_type": "code",
   "execution_count": 4,
   "metadata": {
    "execution": {
     "iopub.execute_input": "2024-12-14T15:01:06.672437Z",
     "iopub.status.busy": "2024-12-14T15:01:06.672138Z",
     "iopub.status.idle": "2024-12-14T15:01:12.570269Z",
     "shell.execute_reply": "2024-12-14T15:01:12.569378Z",
     "shell.execute_reply.started": "2024-12-14T15:01:06.672410Z"
    },
    "id": "pLaoDaG1V1Yg"
   },
   "outputs": [
    {
     "name": "stdout",
     "output_type": "stream",
     "text": [
      "Training X shape: (10020, 64, 128)\n",
      "Training y shape: (10020, 64, 128)\n",
      "Test X shape: (10022, 64, 128)\n",
      "Validation X shape: (2004, 64, 128)\n",
      "Validation y shape: (2004, 64, 128)\n"
     ]
    }
   ],
   "source": [
    "import numpy as np\n",
    "from sklearn.model_selection import train_test_split\n",
    "\n",
    "# Load the data\n",
    "data = np.load(\"/kaggle/input/an2dl-hw22024-2025/flippedx4_no_aliens.npz\")\n",
    "training_set = data[\"training_set\"]\n",
    "X_train = training_set[:, 0]\n",
    "y_train = training_set[:, 1]\n",
    "\n",
    "X_test = data[\"test_set\"]\n",
    "\n",
    "# Check shapes of the data\n",
    "print(f\"Training X shape: {X_train.shape}\")\n",
    "print(f\"Training y shape: {y_train.shape}\")\n",
    "print(f\"Test X shape: {X_test.shape}\")\n",
    "\n",
    "# Split the training data into training and validation sets (e.g., 80% train, 20% validation)\n",
    "X_train, X_val, y_train, y_val = train_test_split(X_train, y_train, test_size=0.2, random_state=42)\n",
    "\n",
    "# Now you have your validation data: X_val_split, y_val_split\n",
    "print(f\"Validation X shape: {X_val.shape}\")\n",
    "print(f\"Validation y shape: {y_val.shape}\")\n"
   ]
  },
  {
   "cell_type": "markdown",
   "metadata": {
    "id": "FSliIxBvbs2Q"
   },
   "source": [
    "## Preprocessing and data info"
   ]
  },
  {
   "cell_type": "code",
   "execution_count": 5,
   "metadata": {
    "execution": {
     "iopub.execute_input": "2024-12-14T15:01:12.571519Z",
     "iopub.status.busy": "2024-12-14T15:01:12.571263Z",
     "iopub.status.idle": "2024-12-14T15:01:14.518431Z",
     "shell.execute_reply": "2024-12-14T15:01:14.517664Z",
     "shell.execute_reply.started": "2024-12-14T15:01:12.571494Z"
    },
    "id": "VmnTgJi_OOs1"
   },
   "outputs": [],
   "source": [
    "\n",
    "X_train_tensor = torch.tensor(X_train / 255.0).unsqueeze(1).float()  \n",
    "y_train_tensor = torch.tensor(y_train).long()\n",
    "\n",
    "X_val_tensor = torch.tensor(X_val / 255.0).unsqueeze(1).float()\n",
    "y_val_tensor = torch.tensor(y_val).long()\n",
    "\n",
    "X_test_tensor = torch.tensor(X_test / 255.0).unsqueeze(1).float()\n",
    "\n",
    "# Create TensorDataset for training and validation\n",
    "train_dataset = TensorDataset(X_train_tensor, y_train_tensor)\n",
    "val_dataset = TensorDataset(X_val_tensor, y_val_tensor)\n",
    "\n",
    "train_loader = DataLoader(train_dataset, batch_size=batch_size, shuffle=True)\n",
    "valid_loader = DataLoader(val_dataset, batch_size=batch_size, shuffle=True)"
   ]
  },
  {
   "cell_type": "markdown",
   "metadata": {},
   "source": [
    "## 🛠️ Create Model"
   ]
  },
  {
   "cell_type": "code",
   "execution_count": 6,
   "metadata": {
    "execution": {
     "iopub.execute_input": "2024-12-14T15:01:14.520566Z",
     "iopub.status.busy": "2024-12-14T15:01:14.520294Z",
     "iopub.status.idle": "2024-12-14T15:01:14.538073Z",
     "shell.execute_reply": "2024-12-14T15:01:14.537247Z",
     "shell.execute_reply.started": "2024-12-14T15:01:14.520540Z"
    }
   },
   "outputs": [],
   "source": [
    "class MyModel(pl.LightningModule):\n",
    "    def __init__(self):\n",
    "        super().__init__()\n",
    "        # Create the model\n",
    "        self.model = smp.create_model(\n",
    "            net_name,\n",
    "            encoder_name=encoder_name,\n",
    "            encoder_depth=encoder_depth,\n",
    "            encoder_weights=encoder_weights,\n",
    "            psp_use_batchnorm = True,\n",
    "            psp_dropout = 0.3,\n",
    "            in_channels=1,\n",
    "            classes=5,\n",
    "            activation='softmax'\n",
    "        )\n",
    "\n",
    "        self.number_of_classes = 5\n",
    "\n",
    "        # Step metrics tracking\n",
    "        self.training_step_outputs = []\n",
    "        self.validation_step_outputs = []\n",
    "        self.test_step_outputs = []\n",
    "\n",
    "        # Define Loss function\n",
    "        self.dice_loss = smp.losses.DiceLoss(smp.losses.MULTICLASS_MODE, from_logits=False, classes=[1, 2, 3, 4], ignore_index = 0)\n",
    "        self.focal_loss = smp.losses.FocalLoss(smp.losses.MULTICLASS_MODE, ignore_index = 0)\n",
    "\n",
    "    # Compute combined loss\n",
    "    def loss_fn(self, logits, target):\n",
    "        # Calcolo della Dice Loss\n",
    "        dice = self.dice_loss(logits, target)\n",
    "        # Calcolo della Focal Loss\n",
    "        focal = self.focal_loss(logits, target)\n",
    "        # Somma pesata\n",
    "        return weight_dice * dice + weight_focal * focal\n",
    "\n",
    "    \n",
    "    \n",
    "    def forward(self, image):\n",
    "        mask = self.model(image)\n",
    "        return mask\n",
    "\n",
    "\n",
    "    # compute loss and stats\n",
    "    def shared_step(self, batch, stage):\n",
    "\n",
    "        image, mask = batch\n",
    "    \n",
    "\n",
    "        assert image.ndim == 4  # [batch_size, channels, H, W]\n",
    "    \n",
    "\n",
    "        mask = mask.long()\n",
    "    \n",
    "\n",
    "        assert mask.ndim == 3  # [batch_size, H, W]\n",
    "    \n",
    "\n",
    "        prob_mask = self.forward(image)  # Il modello restituisce probabilità grazie a `softmax`\n",
    "    \n",
    "\n",
    "        assert (\n",
    "            prob_mask.shape[1] == self.number_of_classes\n",
    "        ), f\"Expected {self.model.classes} channels, got {prob_mask.shape[1]}\"\n",
    "    \n",
    "\n",
    "        pred_mask = prob_mask.argmax(dim=1)  \n",
    "    \n",
    "\n",
    "        loss = self.loss_fn(prob_mask, mask)\n",
    "    \n",
    "\n",
    "        tp, fp, fn, tn = smp.metrics.get_stats(\n",
    "            pred_mask, mask, mode=\"multiclass\", num_classes=self.number_of_classes)\n",
    "\n",
    "        return {\n",
    "            \"loss\": loss,\n",
    "            \"tp\": tp,\n",
    "            \"fp\": fp,\n",
    "            \"fn\": fn,\n",
    "            \"tn\": tn,\n",
    "        }\n",
    "\n",
    "    \n",
    "    def shared_epoch_end(self, outputs, stage):\n",
    "\n",
    "        tp = torch.cat([x[\"tp\"] for x in outputs], dim=0)  # Shape: [batch_size, num_classes]\n",
    "        fp = torch.cat([x[\"fp\"] for x in outputs], dim=0)\n",
    "        fn = torch.cat([x[\"fn\"] for x in outputs], dim=0)\n",
    "        tn = torch.cat([x[\"tn\"] for x in outputs], dim=0)\n",
    "    \n",
    "\n",
    "        labels_to_exclude = [0]  # Classe 0 = background \n",
    "        num_classes = tp.shape[1]\n",
    "    \n",
    "        # Compute IoU \n",
    "        iou_per_class = []\n",
    "        for c in range(num_classes):\n",
    "            if c in labels_to_exclude:\n",
    "                iou_per_class.append(float('nan'))  \n",
    "            else:\n",
    "\n",
    "                tp_c = tp[:, c].sum()\n",
    "                fp_c = fp[:, c].sum()\n",
    "                fn_c = fn[:, c].sum()\n",
    "\n",
    "\n",
    "                union = tp_c + fp_c + fn_c\n",
    "                iou_per_class.append(tp_c.item() / union.item() if union > 0 else float('nan'))\n",
    "    \n",
    "\n",
    "        mean_iou = torch.tensor(iou_per_class).nanmean().item()\n",
    "    \n",
    "\n",
    "        mean_loss = torch.stack([x[\"loss\"] for x in outputs]).mean()\n",
    "\n",
    "\n",
    "        metrics = {\n",
    "            f\"{stage}_mean_iou\": mean_iou,  \n",
    "            f\"{stage}_loss\": mean_loss,\n",
    "        }\n",
    "        for c, iou in enumerate(iou_per_class):\n",
    "            metrics[f\"{stage}_iou_class_{c}\"] = iou\n",
    "\n",
    "\n",
    "        print(f\"\\nEpoch {self.current_epoch} - Metrics for {stage}:\")\n",
    "        for key, value in metrics.items():\n",
    "            print(f\"  {key}: {value:.4f}\" if not isinstance(value, float) or not torch.isnan(torch.tensor(value)) else f\"  {key}: NaN\")\n",
    "    \n",
    "\n",
    "        self.log_dict(metrics, prog_bar=True)\n",
    "\n",
    "\n",
    "    def training_step(self, batch, batch_idx):\n",
    "        train_loss_info = self.shared_step(batch, \"train\")\n",
    "        self.training_step_outputs.append(train_loss_info)\n",
    "        return train_loss_info\n",
    "\n",
    "    \n",
    "    def on_train_epoch_end(self):\n",
    "        self.shared_epoch_end(self.training_step_outputs, \"train\")\n",
    "        self.training_step_outputs.clear()\n",
    "\n",
    "    \n",
    "    def validation_step(self, batch, batch_idx):\n",
    "        val_loss_info = self.shared_step(batch, \"valid\")\n",
    "        self.validation_step_outputs.append(val_loss_info)\n",
    "        return val_loss_info\n",
    "\n",
    "    \n",
    "    def on_validation_epoch_end(self):\n",
    "        self.shared_epoch_end(self.validation_step_outputs, \"valid\")\n",
    "        self.validation_step_outputs.clear()\n",
    "\n",
    "\n",
    "    def configure_optimizers(self):\n",
    "        # Definizione dell'ottimizzatore\n",
    "        optimizer = torch.optim.NAdam(self.parameters(), lr=lr, weight_decay=1e-5)\n",
    "    \n",
    "        # Scheduler ReduceLROnPlateau\n",
    "        scheduler = ReduceLROnPlateau(\n",
    "            optimizer,\n",
    "       \n",
    "            mode=\"min\",       \n",
    "            factor=0.4,        \n",
    "            patience=15,        \n",
    "            verbose=True,      \n",
    "        )\n",
    "    \n",
    "\n",
    "        return {\n",
    "            \"optimizer\": optimizer,\n",
    "            \"lr_scheduler\": {\n",
    "                \"scheduler\": scheduler,\n",
    "                \"monitor\": \"valid_loss\",  \n",
    "            },\n",
    "        }"
   ]
  },
  {
   "cell_type": "code",
   "execution_count": 7,
   "metadata": {
    "execution": {
     "iopub.execute_input": "2024-12-14T15:01:14.539406Z",
     "iopub.status.busy": "2024-12-14T15:01:14.539153Z",
     "iopub.status.idle": "2024-12-14T15:01:15.022739Z",
     "shell.execute_reply": "2024-12-14T15:01:15.021750Z",
     "shell.execute_reply.started": "2024-12-14T15:01:14.539382Z"
    },
    "id": "CBkb3TRF1KJx"
   },
   "outputs": [],
   "source": [
    "model = MyModel()"
   ]
  },
  {
   "cell_type": "markdown",
   "metadata": {},
   "source": [
    "## Training"
   ]
  },
  {
   "cell_type": "code",
   "execution_count": 8,
   "metadata": {
    "execution": {
     "iopub.execute_input": "2024-12-14T15:01:15.024268Z",
     "iopub.status.busy": "2024-12-14T15:01:15.023982Z",
     "iopub.status.idle": "2024-12-14T15:38:04.104884Z",
     "shell.execute_reply": "2024-12-14T15:38:04.104174Z",
     "shell.execute_reply.started": "2024-12-14T15:01:15.024241Z"
    }
   },
   "outputs": [
    {
     "data": {
      "application/vnd.jupyter.widget-view+json": {
       "model_id": "",
       "version_major": 2,
       "version_minor": 0
      },
      "text/plain": [
       "Sanity Checking: |          | 0/? [00:00<?, ?it/s]"
      ]
     },
     "metadata": {},
     "output_type": "display_data"
    },
    {
     "name": "stderr",
     "output_type": "stream",
     "text": [
      "/opt/conda/lib/python3.10/site-packages/pytorch_lightning/trainer/connectors/data_connector.py:475: Your `val_dataloader`'s sampler has shuffling enabled, it is strongly recommended that you turn shuffling off for val/test dataloaders.\n",
      "/opt/conda/lib/python3.10/site-packages/pytorch_lightning/trainer/connectors/data_connector.py:424: The 'val_dataloader' does not have many workers which may be a bottleneck. Consider increasing the value of the `num_workers` argument` to `num_workers=3` in the `DataLoader` to improve performance.\n",
      "/opt/conda/lib/python3.10/site-packages/torch/nn/modules/module.py:1553: UserWarning: Implicit dimension choice for softmax has been deprecated. Change the call to include dim=X as an argument.\n",
      "  return self._call_impl(*args, **kwargs)\n"
     ]
    },
    {
     "name": "stdout",
     "output_type": "stream",
     "text": [
      "\n",
      "Epoch 0 - Metrics for valid:\n",
      "  valid_mean_iou: 0.0108\n",
      "  valid_loss: 1.8997\n",
      "  valid_iou_class_0: NaN\n",
      "  valid_iou_class_1: 0.0431\n",
      "  valid_iou_class_2: 0.0001\n",
      "  valid_iou_class_3: 0.0000\n",
      "  valid_iou_class_4: 0.0000\n"
     ]
    },
    {
     "name": "stderr",
     "output_type": "stream",
     "text": [
      "/opt/conda/lib/python3.10/site-packages/pytorch_lightning/trainer/connectors/data_connector.py:424: The 'train_dataloader' does not have many workers which may be a bottleneck. Consider increasing the value of the `num_workers` argument` to `num_workers=3` in the `DataLoader` to improve performance.\n"
     ]
    },
    {
     "data": {
      "application/vnd.jupyter.widget-view+json": {
       "model_id": "73cdf623f1484d6987a1be28a4415b18",
       "version_major": 2,
       "version_minor": 0
      },
      "text/plain": [
       "Training: |          | 0/? [00:00<?, ?it/s]"
      ]
     },
     "metadata": {},
     "output_type": "display_data"
    },
    {
     "data": {
      "application/vnd.jupyter.widget-view+json": {
       "model_id": "",
       "version_major": 2,
       "version_minor": 0
      },
      "text/plain": [
       "Validation: |          | 0/? [00:00<?, ?it/s]"
      ]
     },
     "metadata": {},
     "output_type": "display_data"
    },
    {
     "name": "stdout",
     "output_type": "stream",
     "text": [
      "\n",
      "Epoch 0 - Metrics for valid:\n",
      "  valid_mean_iou: 0.1472\n",
      "  valid_loss: 1.8355\n",
      "  valid_iou_class_0: NaN\n",
      "  valid_iou_class_1: 0.0000\n",
      "  valid_iou_class_2: 0.3309\n",
      "  valid_iou_class_3: 0.2579\n",
      "  valid_iou_class_4: 0.0000\n",
      "\n",
      "Epoch 0 - Metrics for train:\n",
      "  train_mean_iou: 0.3192\n",
      "  train_loss: 1.3867\n",
      "  train_iou_class_0: NaN\n",
      "  train_iou_class_1: 0.4625\n",
      "  train_iou_class_2: 0.3624\n",
      "  train_iou_class_3: 0.4267\n",
      "  train_iou_class_4: 0.0252\n"
     ]
    },
    {
     "data": {
      "application/vnd.jupyter.widget-view+json": {
       "model_id": "",
       "version_major": 2,
       "version_minor": 0
      },
      "text/plain": [
       "Validation: |          | 0/? [00:00<?, ?it/s]"
      ]
     },
     "metadata": {},
     "output_type": "display_data"
    },
    {
     "name": "stdout",
     "output_type": "stream",
     "text": [
      "\n",
      "Epoch 1 - Metrics for valid:\n",
      "  valid_mean_iou: 0.1000\n",
      "  valid_loss: 1.8965\n",
      "  valid_iou_class_0: NaN\n",
      "  valid_iou_class_1: 0.3487\n",
      "  valid_iou_class_2: 0.0022\n",
      "  valid_iou_class_3: 0.0493\n",
      "  valid_iou_class_4: 0.0000\n",
      "\n",
      "Epoch 1 - Metrics for train:\n",
      "  train_mean_iou: 0.3769\n",
      "  train_loss: 1.2808\n",
      "  train_iou_class_0: NaN\n",
      "  train_iou_class_1: 0.5558\n",
      "  train_iou_class_2: 0.4444\n",
      "  train_iou_class_3: 0.5074\n",
      "  train_iou_class_4: 0.0000\n"
     ]
    },
    {
     "data": {
      "application/vnd.jupyter.widget-view+json": {
       "model_id": "",
       "version_major": 2,
       "version_minor": 0
      },
      "text/plain": [
       "Validation: |          | 0/? [00:00<?, ?it/s]"
      ]
     },
     "metadata": {},
     "output_type": "display_data"
    },
    {
     "name": "stdout",
     "output_type": "stream",
     "text": [
      "\n",
      "Epoch 2 - Metrics for valid:\n",
      "  valid_mean_iou: 0.2243\n",
      "  valid_loss: 1.6265\n",
      "  valid_iou_class_0: NaN\n",
      "  valid_iou_class_1: 0.2669\n",
      "  valid_iou_class_2: 0.3241\n",
      "  valid_iou_class_3: 0.3062\n",
      "  valid_iou_class_4: 0.0000\n",
      "\n",
      "Epoch 2 - Metrics for train:\n",
      "  train_mean_iou: 0.3859\n",
      "  train_loss: 1.2518\n",
      "  train_iou_class_0: NaN\n",
      "  train_iou_class_1: 0.5822\n",
      "  train_iou_class_2: 0.4621\n",
      "  train_iou_class_3: 0.4993\n",
      "  train_iou_class_4: 0.0000\n"
     ]
    },
    {
     "data": {
      "application/vnd.jupyter.widget-view+json": {
       "model_id": "",
       "version_major": 2,
       "version_minor": 0
      },
      "text/plain": [
       "Validation: |          | 0/? [00:00<?, ?it/s]"
      ]
     },
     "metadata": {},
     "output_type": "display_data"
    },
    {
     "name": "stdout",
     "output_type": "stream",
     "text": [
      "\n",
      "Epoch 3 - Metrics for valid:\n",
      "  valid_mean_iou: 0.3014\n",
      "  valid_loss: 1.4195\n",
      "  valid_iou_class_0: NaN\n",
      "  valid_iou_class_1: 0.4830\n",
      "  valid_iou_class_2: 0.3031\n",
      "  valid_iou_class_3: 0.4196\n",
      "  valid_iou_class_4: 0.0000\n",
      "\n",
      "Epoch 3 - Metrics for train:\n",
      "  train_mean_iou: 0.3953\n",
      "  train_loss: 1.2373\n",
      "  train_iou_class_0: NaN\n",
      "  train_iou_class_1: 0.5955\n",
      "  train_iou_class_2: 0.4788\n",
      "  train_iou_class_3: 0.5070\n",
      "  train_iou_class_4: 0.0000\n"
     ]
    },
    {
     "data": {
      "application/vnd.jupyter.widget-view+json": {
       "model_id": "",
       "version_major": 2,
       "version_minor": 0
      },
      "text/plain": [
       "Validation: |          | 0/? [00:00<?, ?it/s]"
      ]
     },
     "metadata": {},
     "output_type": "display_data"
    },
    {
     "name": "stdout",
     "output_type": "stream",
     "text": [
      "\n",
      "Epoch 4 - Metrics for valid:\n",
      "  valid_mean_iou: 0.2269\n",
      "  valid_loss: 1.6191\n",
      "  valid_iou_class_0: NaN\n",
      "  valid_iou_class_1: 0.3016\n",
      "  valid_iou_class_2: 0.3079\n",
      "  valid_iou_class_3: 0.2787\n",
      "  valid_iou_class_4: 0.0194\n",
      "\n",
      "Epoch 4 - Metrics for train:\n",
      "  train_mean_iou: 0.4229\n",
      "  train_loss: 1.1916\n",
      "  train_iou_class_0: NaN\n",
      "  train_iou_class_1: 0.6276\n",
      "  train_iou_class_2: 0.4926\n",
      "  train_iou_class_3: 0.5414\n",
      "  train_iou_class_4: 0.0302\n"
     ]
    },
    {
     "data": {
      "application/vnd.jupyter.widget-view+json": {
       "model_id": "",
       "version_major": 2,
       "version_minor": 0
      },
      "text/plain": [
       "Validation: |          | 0/? [00:00<?, ?it/s]"
      ]
     },
     "metadata": {},
     "output_type": "display_data"
    },
    {
     "name": "stdout",
     "output_type": "stream",
     "text": [
      "\n",
      "Epoch 5 - Metrics for valid:\n",
      "  valid_mean_iou: 0.1776\n",
      "  valid_loss: 1.6907\n",
      "  valid_iou_class_0: NaN\n",
      "  valid_iou_class_1: 0.3921\n",
      "  valid_iou_class_2: 0.1841\n",
      "  valid_iou_class_3: 0.0984\n",
      "  valid_iou_class_4: 0.0357\n",
      "\n",
      "Epoch 5 - Metrics for train:\n",
      "  train_mean_iou: 0.4245\n",
      "  train_loss: 1.1812\n",
      "  train_iou_class_0: NaN\n",
      "  train_iou_class_1: 0.6245\n",
      "  train_iou_class_2: 0.4975\n",
      "  train_iou_class_3: 0.5509\n",
      "  train_iou_class_4: 0.0253\n"
     ]
    },
    {
     "data": {
      "application/vnd.jupyter.widget-view+json": {
       "model_id": "",
       "version_major": 2,
       "version_minor": 0
      },
      "text/plain": [
       "Validation: |          | 0/? [00:00<?, ?it/s]"
      ]
     },
     "metadata": {},
     "output_type": "display_data"
    },
    {
     "name": "stdout",
     "output_type": "stream",
     "text": [
      "\n",
      "Epoch 6 - Metrics for valid:\n",
      "  valid_mean_iou: 0.3722\n",
      "  valid_loss: 1.2364\n",
      "  valid_iou_class_0: NaN\n",
      "  valid_iou_class_1: 0.5658\n",
      "  valid_iou_class_2: 0.4996\n",
      "  valid_iou_class_3: 0.3488\n",
      "  valid_iou_class_4: 0.0746\n",
      "\n",
      "Epoch 6 - Metrics for train:\n",
      "  train_mean_iou: 0.4245\n",
      "  train_loss: 1.1645\n",
      "  train_iou_class_0: NaN\n",
      "  train_iou_class_1: 0.6264\n",
      "  train_iou_class_2: 0.4991\n",
      "  train_iou_class_3: 0.5456\n",
      "  train_iou_class_4: 0.0269\n"
     ]
    },
    {
     "data": {
      "application/vnd.jupyter.widget-view+json": {
       "model_id": "",
       "version_major": 2,
       "version_minor": 0
      },
      "text/plain": [
       "Validation: |          | 0/? [00:00<?, ?it/s]"
      ]
     },
     "metadata": {},
     "output_type": "display_data"
    },
    {
     "name": "stdout",
     "output_type": "stream",
     "text": [
      "\n",
      "Epoch 7 - Metrics for valid:\n",
      "  valid_mean_iou: 0.1453\n",
      "  valid_loss: 1.7769\n",
      "  valid_iou_class_0: NaN\n",
      "  valid_iou_class_1: 0.3753\n",
      "  valid_iou_class_2: 0.1179\n",
      "  valid_iou_class_3: 0.0720\n",
      "  valid_iou_class_4: 0.0161\n",
      "\n",
      "Epoch 7 - Metrics for train:\n",
      "  train_mean_iou: 0.4301\n",
      "  train_loss: 1.1419\n",
      "  train_iou_class_0: NaN\n",
      "  train_iou_class_1: 0.6319\n",
      "  train_iou_class_2: 0.5112\n",
      "  train_iou_class_3: 0.5475\n",
      "  train_iou_class_4: 0.0296\n"
     ]
    },
    {
     "data": {
      "application/vnd.jupyter.widget-view+json": {
       "model_id": "",
       "version_major": 2,
       "version_minor": 0
      },
      "text/plain": [
       "Validation: |          | 0/? [00:00<?, ?it/s]"
      ]
     },
     "metadata": {},
     "output_type": "display_data"
    },
    {
     "name": "stdout",
     "output_type": "stream",
     "text": [
      "\n",
      "Epoch 8 - Metrics for valid:\n",
      "  valid_mean_iou: 0.3429\n",
      "  valid_loss: 1.3048\n",
      "  valid_iou_class_0: NaN\n",
      "  valid_iou_class_1: 0.4321\n",
      "  valid_iou_class_2: 0.4238\n",
      "  valid_iou_class_3: 0.4717\n",
      "  valid_iou_class_4: 0.0441\n",
      "\n",
      "Epoch 8 - Metrics for train:\n",
      "  train_mean_iou: 0.4428\n",
      "  train_loss: 1.1393\n",
      "  train_iou_class_0: NaN\n",
      "  train_iou_class_1: 0.6403\n",
      "  train_iou_class_2: 0.5059\n",
      "  train_iou_class_3: 0.5544\n",
      "  train_iou_class_4: 0.0705\n"
     ]
    },
    {
     "data": {
      "application/vnd.jupyter.widget-view+json": {
       "model_id": "",
       "version_major": 2,
       "version_minor": 0
      },
      "text/plain": [
       "Validation: |          | 0/? [00:00<?, ?it/s]"
      ]
     },
     "metadata": {},
     "output_type": "display_data"
    },
    {
     "name": "stdout",
     "output_type": "stream",
     "text": [
      "\n",
      "Epoch 9 - Metrics for valid:\n",
      "  valid_mean_iou: 0.2941\n",
      "  valid_loss: 1.4519\n",
      "  valid_iou_class_0: NaN\n",
      "  valid_iou_class_1: 0.4184\n",
      "  valid_iou_class_2: 0.3953\n",
      "  valid_iou_class_3: 0.3047\n",
      "  valid_iou_class_4: 0.0581\n",
      "\n",
      "Epoch 9 - Metrics for train:\n",
      "  train_mean_iou: 0.4533\n",
      "  train_loss: 1.1173\n",
      "  train_iou_class_0: NaN\n",
      "  train_iou_class_1: 0.6572\n",
      "  train_iou_class_2: 0.5266\n",
      "  train_iou_class_3: 0.5551\n",
      "  train_iou_class_4: 0.0743\n"
     ]
    },
    {
     "data": {
      "application/vnd.jupyter.widget-view+json": {
       "model_id": "",
       "version_major": 2,
       "version_minor": 0
      },
      "text/plain": [
       "Validation: |          | 0/? [00:00<?, ?it/s]"
      ]
     },
     "metadata": {},
     "output_type": "display_data"
    },
    {
     "name": "stdout",
     "output_type": "stream",
     "text": [
      "\n",
      "Epoch 10 - Metrics for valid:\n",
      "  valid_mean_iou: 0.2768\n",
      "  valid_loss: 1.5418\n",
      "  valid_iou_class_0: NaN\n",
      "  valid_iou_class_1: 0.2502\n",
      "  valid_iou_class_2: 0.3023\n",
      "  valid_iou_class_3: 0.4824\n",
      "  valid_iou_class_4: 0.0724\n",
      "\n",
      "Epoch 10 - Metrics for train:\n",
      "  train_mean_iou: 0.4464\n",
      "  train_loss: 1.1054\n",
      "  train_iou_class_0: NaN\n",
      "  train_iou_class_1: 0.6517\n",
      "  train_iou_class_2: 0.5308\n",
      "  train_iou_class_3: 0.5637\n",
      "  train_iou_class_4: 0.0391\n"
     ]
    },
    {
     "data": {
      "application/vnd.jupyter.widget-view+json": {
       "model_id": "",
       "version_major": 2,
       "version_minor": 0
      },
      "text/plain": [
       "Validation: |          | 0/? [00:00<?, ?it/s]"
      ]
     },
     "metadata": {},
     "output_type": "display_data"
    },
    {
     "name": "stdout",
     "output_type": "stream",
     "text": [
      "\n",
      "Epoch 11 - Metrics for valid:\n",
      "  valid_mean_iou: 0.3554\n",
      "  valid_loss: 1.3041\n",
      "  valid_iou_class_0: NaN\n",
      "  valid_iou_class_1: 0.4853\n",
      "  valid_iou_class_2: 0.4503\n",
      "  valid_iou_class_3: 0.4559\n",
      "  valid_iou_class_4: 0.0300\n",
      "\n",
      "Epoch 11 - Metrics for train:\n",
      "  train_mean_iou: 0.4225\n",
      "  train_loss: 1.1681\n",
      "  train_iou_class_0: NaN\n",
      "  train_iou_class_1: 0.6123\n",
      "  train_iou_class_2: 0.4960\n",
      "  train_iou_class_3: 0.5485\n",
      "  train_iou_class_4: 0.0333\n"
     ]
    },
    {
     "data": {
      "application/vnd.jupyter.widget-view+json": {
       "model_id": "",
       "version_major": 2,
       "version_minor": 0
      },
      "text/plain": [
       "Validation: |          | 0/? [00:00<?, ?it/s]"
      ]
     },
     "metadata": {},
     "output_type": "display_data"
    },
    {
     "name": "stdout",
     "output_type": "stream",
     "text": [
      "\n",
      "Epoch 12 - Metrics for valid:\n",
      "  valid_mean_iou: 0.4262\n",
      "  valid_loss: 1.1552\n",
      "  valid_iou_class_0: NaN\n",
      "  valid_iou_class_1: 0.6062\n",
      "  valid_iou_class_2: 0.5463\n",
      "  valid_iou_class_3: 0.5206\n",
      "  valid_iou_class_4: 0.0318\n",
      "\n",
      "Epoch 12 - Metrics for train:\n",
      "  train_mean_iou: 0.4484\n",
      "  train_loss: 1.1081\n",
      "  train_iou_class_0: NaN\n",
      "  train_iou_class_1: 0.6527\n",
      "  train_iou_class_2: 0.5303\n",
      "  train_iou_class_3: 0.5702\n",
      "  train_iou_class_4: 0.0406\n"
     ]
    },
    {
     "data": {
      "application/vnd.jupyter.widget-view+json": {
       "model_id": "",
       "version_major": 2,
       "version_minor": 0
      },
      "text/plain": [
       "Validation: |          | 0/? [00:00<?, ?it/s]"
      ]
     },
     "metadata": {},
     "output_type": "display_data"
    },
    {
     "name": "stdout",
     "output_type": "stream",
     "text": [
      "\n",
      "Epoch 13 - Metrics for valid:\n",
      "  valid_mean_iou: 0.1076\n",
      "  valid_loss: 1.8696\n",
      "  valid_iou_class_0: NaN\n",
      "  valid_iou_class_1: 0.3541\n",
      "  valid_iou_class_2: 0.0460\n",
      "  valid_iou_class_3: 0.0181\n",
      "  valid_iou_class_4: 0.0124\n",
      "\n",
      "Epoch 13 - Metrics for train:\n",
      "  train_mean_iou: 0.4624\n",
      "  train_loss: 1.0728\n",
      "  train_iou_class_0: NaN\n",
      "  train_iou_class_1: 0.6795\n",
      "  train_iou_class_2: 0.5472\n",
      "  train_iou_class_3: 0.5788\n",
      "  train_iou_class_4: 0.0440\n"
     ]
    },
    {
     "data": {
      "application/vnd.jupyter.widget-view+json": {
       "model_id": "",
       "version_major": 2,
       "version_minor": 0
      },
      "text/plain": [
       "Validation: |          | 0/? [00:00<?, ?it/s]"
      ]
     },
     "metadata": {},
     "output_type": "display_data"
    },
    {
     "name": "stdout",
     "output_type": "stream",
     "text": [
      "\n",
      "Epoch 14 - Metrics for valid:\n",
      "  valid_mean_iou: 0.2990\n",
      "  valid_loss: 1.4514\n",
      "  valid_iou_class_0: NaN\n",
      "  valid_iou_class_1: 0.3527\n",
      "  valid_iou_class_2: 0.4059\n",
      "  valid_iou_class_3: 0.3511\n",
      "  valid_iou_class_4: 0.0862\n",
      "\n",
      "Epoch 14 - Metrics for train:\n",
      "  train_mean_iou: 0.4650\n",
      "  train_loss: 1.0691\n",
      "  train_iou_class_0: NaN\n",
      "  train_iou_class_1: 0.6846\n",
      "  train_iou_class_2: 0.5494\n",
      "  train_iou_class_3: 0.5756\n",
      "  train_iou_class_4: 0.0506\n"
     ]
    },
    {
     "data": {
      "application/vnd.jupyter.widget-view+json": {
       "model_id": "",
       "version_major": 2,
       "version_minor": 0
      },
      "text/plain": [
       "Validation: |          | 0/? [00:00<?, ?it/s]"
      ]
     },
     "metadata": {},
     "output_type": "display_data"
    },
    {
     "name": "stdout",
     "output_type": "stream",
     "text": [
      "\n",
      "Epoch 15 - Metrics for valid:\n",
      "  valid_mean_iou: 0.2465\n",
      "  valid_loss: 1.5274\n",
      "  valid_iou_class_0: NaN\n",
      "  valid_iou_class_1: 0.4257\n",
      "  valid_iou_class_2: 0.2868\n",
      "  valid_iou_class_3: 0.1817\n",
      "  valid_iou_class_4: 0.0919\n",
      "\n",
      "Epoch 15 - Metrics for train:\n",
      "  train_mean_iou: 0.4521\n",
      "  train_loss: 1.1005\n",
      "  train_iou_class_0: NaN\n",
      "  train_iou_class_1: 0.6536\n",
      "  train_iou_class_2: 0.5296\n",
      "  train_iou_class_3: 0.5548\n",
      "  train_iou_class_4: 0.0702\n"
     ]
    },
    {
     "data": {
      "application/vnd.jupyter.widget-view+json": {
       "model_id": "",
       "version_major": 2,
       "version_minor": 0
      },
      "text/plain": [
       "Validation: |          | 0/? [00:00<?, ?it/s]"
      ]
     },
     "metadata": {},
     "output_type": "display_data"
    },
    {
     "name": "stdout",
     "output_type": "stream",
     "text": [
      "\n",
      "Epoch 16 - Metrics for valid:\n",
      "  valid_mean_iou: 0.3974\n",
      "  valid_loss: 1.2733\n",
      "  valid_iou_class_0: NaN\n",
      "  valid_iou_class_1: 0.5170\n",
      "  valid_iou_class_2: 0.4375\n",
      "  valid_iou_class_3: 0.4897\n",
      "  valid_iou_class_4: 0.1453\n",
      "\n",
      "Epoch 16 - Metrics for train:\n",
      "  train_mean_iou: 0.4475\n",
      "  train_loss: 1.1120\n",
      "  train_iou_class_0: NaN\n",
      "  train_iou_class_1: 0.6502\n",
      "  train_iou_class_2: 0.5292\n",
      "  train_iou_class_3: 0.5678\n",
      "  train_iou_class_4: 0.0429\n"
     ]
    },
    {
     "data": {
      "application/vnd.jupyter.widget-view+json": {
       "model_id": "",
       "version_major": 2,
       "version_minor": 0
      },
      "text/plain": [
       "Validation: |          | 0/? [00:00<?, ?it/s]"
      ]
     },
     "metadata": {},
     "output_type": "display_data"
    },
    {
     "name": "stdout",
     "output_type": "stream",
     "text": [
      "\n",
      "Epoch 17 - Metrics for valid:\n",
      "  valid_mean_iou: 0.4638\n",
      "  valid_loss: 1.1168\n",
      "  valid_iou_class_0: NaN\n",
      "  valid_iou_class_1: 0.6770\n",
      "  valid_iou_class_2: 0.5309\n",
      "  valid_iou_class_3: 0.5549\n",
      "  valid_iou_class_4: 0.0923\n",
      "\n",
      "Epoch 17 - Metrics for train:\n",
      "  train_mean_iou: 0.4618\n",
      "  train_loss: 1.0937\n",
      "  train_iou_class_0: NaN\n",
      "  train_iou_class_1: 0.6728\n",
      "  train_iou_class_2: 0.5379\n",
      "  train_iou_class_3: 0.5881\n",
      "  train_iou_class_4: 0.0483\n"
     ]
    },
    {
     "data": {
      "application/vnd.jupyter.widget-view+json": {
       "model_id": "",
       "version_major": 2,
       "version_minor": 0
      },
      "text/plain": [
       "Validation: |          | 0/? [00:00<?, ?it/s]"
      ]
     },
     "metadata": {},
     "output_type": "display_data"
    },
    {
     "name": "stdout",
     "output_type": "stream",
     "text": [
      "\n",
      "Epoch 18 - Metrics for valid:\n",
      "  valid_mean_iou: 0.3847\n",
      "  valid_loss: 1.2216\n",
      "  valid_iou_class_0: NaN\n",
      "  valid_iou_class_1: 0.5279\n",
      "  valid_iou_class_2: 0.4511\n",
      "  valid_iou_class_3: 0.4833\n",
      "  valid_iou_class_4: 0.0767\n",
      "\n",
      "Epoch 18 - Metrics for train:\n",
      "  train_mean_iou: 0.4686\n",
      "  train_loss: 1.0766\n",
      "  train_iou_class_0: NaN\n",
      "  train_iou_class_1: 0.6701\n",
      "  train_iou_class_2: 0.5360\n",
      "  train_iou_class_3: 0.5874\n",
      "  train_iou_class_4: 0.0808\n"
     ]
    },
    {
     "data": {
      "application/vnd.jupyter.widget-view+json": {
       "model_id": "",
       "version_major": 2,
       "version_minor": 0
      },
      "text/plain": [
       "Validation: |          | 0/? [00:00<?, ?it/s]"
      ]
     },
     "metadata": {},
     "output_type": "display_data"
    },
    {
     "name": "stdout",
     "output_type": "stream",
     "text": [
      "\n",
      "Epoch 19 - Metrics for valid:\n",
      "  valid_mean_iou: 0.4100\n",
      "  valid_loss: 1.1807\n",
      "  valid_iou_class_0: NaN\n",
      "  valid_iou_class_1: 0.6207\n",
      "  valid_iou_class_2: 0.4837\n",
      "  valid_iou_class_3: 0.4336\n",
      "  valid_iou_class_4: 0.1021\n",
      "\n",
      "Epoch 19 - Metrics for train:\n",
      "  train_mean_iou: 0.4821\n",
      "  train_loss: 1.0605\n",
      "  train_iou_class_0: NaN\n",
      "  train_iou_class_1: 0.6824\n",
      "  train_iou_class_2: 0.5490\n",
      "  train_iou_class_3: 0.5823\n",
      "  train_iou_class_4: 0.1147\n"
     ]
    },
    {
     "data": {
      "application/vnd.jupyter.widget-view+json": {
       "model_id": "",
       "version_major": 2,
       "version_minor": 0
      },
      "text/plain": [
       "Validation: |          | 0/? [00:00<?, ?it/s]"
      ]
     },
     "metadata": {},
     "output_type": "display_data"
    },
    {
     "name": "stdout",
     "output_type": "stream",
     "text": [
      "\n",
      "Epoch 20 - Metrics for valid:\n",
      "  valid_mean_iou: 0.1273\n",
      "  valid_loss: 1.7913\n",
      "  valid_iou_class_0: NaN\n",
      "  valid_iou_class_1: 0.3653\n",
      "  valid_iou_class_2: 0.1359\n",
      "  valid_iou_class_3: 0.0048\n",
      "  valid_iou_class_4: 0.0031\n",
      "\n",
      "Epoch 20 - Metrics for train:\n",
      "  train_mean_iou: 0.4916\n",
      "  train_loss: 1.0316\n",
      "  train_iou_class_0: NaN\n",
      "  train_iou_class_1: 0.7009\n",
      "  train_iou_class_2: 0.5633\n",
      "  train_iou_class_3: 0.5986\n",
      "  train_iou_class_4: 0.1035\n"
     ]
    },
    {
     "data": {
      "application/vnd.jupyter.widget-view+json": {
       "model_id": "",
       "version_major": 2,
       "version_minor": 0
      },
      "text/plain": [
       "Validation: |          | 0/? [00:00<?, ?it/s]"
      ]
     },
     "metadata": {},
     "output_type": "display_data"
    },
    {
     "name": "stdout",
     "output_type": "stream",
     "text": [
      "\n",
      "Epoch 21 - Metrics for valid:\n",
      "  valid_mean_iou: 0.4398\n",
      "  valid_loss: 1.1564\n",
      "  valid_iou_class_0: NaN\n",
      "  valid_iou_class_1: 0.6405\n",
      "  valid_iou_class_2: 0.4984\n",
      "  valid_iou_class_3: 0.4780\n",
      "  valid_iou_class_4: 0.1421\n",
      "\n",
      "Epoch 21 - Metrics for train:\n",
      "  train_mean_iou: 0.4662\n",
      "  train_loss: 1.0823\n",
      "  train_iou_class_0: NaN\n",
      "  train_iou_class_1: 0.6720\n",
      "  train_iou_class_2: 0.5503\n",
      "  train_iou_class_3: 0.5576\n",
      "  train_iou_class_4: 0.0850\n"
     ]
    },
    {
     "data": {
      "application/vnd.jupyter.widget-view+json": {
       "model_id": "",
       "version_major": 2,
       "version_minor": 0
      },
      "text/plain": [
       "Validation: |          | 0/? [00:00<?, ?it/s]"
      ]
     },
     "metadata": {},
     "output_type": "display_data"
    },
    {
     "name": "stdout",
     "output_type": "stream",
     "text": [
      "\n",
      "Epoch 22 - Metrics for valid:\n",
      "  valid_mean_iou: 0.4474\n",
      "  valid_loss: 1.1351\n",
      "  valid_iou_class_0: NaN\n",
      "  valid_iou_class_1: 0.6095\n",
      "  valid_iou_class_2: 0.5172\n",
      "  valid_iou_class_3: 0.5096\n",
      "  valid_iou_class_4: 0.1533\n",
      "\n",
      "Epoch 22 - Metrics for train:\n",
      "  train_mean_iou: 0.4944\n",
      "  train_loss: 1.0384\n",
      "  train_iou_class_0: NaN\n",
      "  train_iou_class_1: 0.7002\n",
      "  train_iou_class_2: 0.5572\n",
      "  train_iou_class_3: 0.6063\n",
      "  train_iou_class_4: 0.1137\n"
     ]
    },
    {
     "data": {
      "application/vnd.jupyter.widget-view+json": {
       "model_id": "9ed18093a4c348dfb89542cf78fc8439",
       "version_major": 2,
       "version_minor": 0
      },
      "text/plain": [
       "Validation: |          | 0/? [00:00<?, ?it/s]"
      ]
     },
     "metadata": {},
     "output_type": "display_data"
    },
    {
     "name": "stdout",
     "output_type": "stream",
     "text": [
      "\n",
      "Epoch 23 - Metrics for valid:\n",
      "  valid_mean_iou: 0.1823\n",
      "  valid_loss: 1.7281\n",
      "  valid_iou_class_0: NaN\n",
      "  valid_iou_class_1: 0.1540\n",
      "  valid_iou_class_2: 0.2672\n",
      "  valid_iou_class_3: 0.2647\n",
      "  valid_iou_class_4: 0.0432\n",
      "\n",
      "Epoch 23 - Metrics for train:\n",
      "  train_mean_iou: 0.4947\n",
      "  train_loss: 1.0345\n",
      "  train_iou_class_0: NaN\n",
      "  train_iou_class_1: 0.7041\n",
      "  train_iou_class_2: 0.5620\n",
      "  train_iou_class_3: 0.6121\n",
      "  train_iou_class_4: 0.1006\n"
     ]
    },
    {
     "data": {
      "application/vnd.jupyter.widget-view+json": {
       "model_id": "60ff2e3d073a4c0597caf44e555054c1",
       "version_major": 2,
       "version_minor": 0
      },
      "text/plain": [
       "Validation: |          | 0/? [00:00<?, ?it/s]"
      ]
     },
     "metadata": {},
     "output_type": "display_data"
    },
    {
     "name": "stdout",
     "output_type": "stream",
     "text": [
      "\n",
      "Epoch 24 - Metrics for valid:\n",
      "  valid_mean_iou: 0.4120\n",
      "  valid_loss: 1.2063\n",
      "  valid_iou_class_0: NaN\n",
      "  valid_iou_class_1: 0.5839\n",
      "  valid_iou_class_2: 0.4895\n",
      "  valid_iou_class_3: 0.4166\n",
      "  valid_iou_class_4: 0.1579\n",
      "\n",
      "Epoch 24 - Metrics for train:\n",
      "  train_mean_iou: 0.4895\n",
      "  train_loss: 1.0351\n",
      "  train_iou_class_0: NaN\n",
      "  train_iou_class_1: 0.6956\n",
      "  train_iou_class_2: 0.5576\n",
      "  train_iou_class_3: 0.6093\n",
      "  train_iou_class_4: 0.0956\n"
     ]
    },
    {
     "data": {
      "application/vnd.jupyter.widget-view+json": {
       "model_id": "c020b5699b00408587d6d46de3180fad",
       "version_major": 2,
       "version_minor": 0
      },
      "text/plain": [
       "Validation: |          | 0/? [00:00<?, ?it/s]"
      ]
     },
     "metadata": {},
     "output_type": "display_data"
    },
    {
     "name": "stdout",
     "output_type": "stream",
     "text": [
      "\n",
      "Epoch 25 - Metrics for valid:\n",
      "  valid_mean_iou: 0.3888\n",
      "  valid_loss: 1.2416\n",
      "  valid_iou_class_0: NaN\n",
      "  valid_iou_class_1: 0.5532\n",
      "  valid_iou_class_2: 0.4894\n",
      "  valid_iou_class_3: 0.4186\n",
      "  valid_iou_class_4: 0.0939\n",
      "\n",
      "Epoch 25 - Metrics for train:\n",
      "  train_mean_iou: 0.4734\n",
      "  train_loss: 1.0641\n",
      "  train_iou_class_0: NaN\n",
      "  train_iou_class_1: 0.6727\n",
      "  train_iou_class_2: 0.5471\n",
      "  train_iou_class_3: 0.5857\n",
      "  train_iou_class_4: 0.0879\n"
     ]
    },
    {
     "data": {
      "application/vnd.jupyter.widget-view+json": {
       "model_id": "000047139f3444999891e34ca9052ed7",
       "version_major": 2,
       "version_minor": 0
      },
      "text/plain": [
       "Validation: |          | 0/? [00:00<?, ?it/s]"
      ]
     },
     "metadata": {},
     "output_type": "display_data"
    },
    {
     "name": "stdout",
     "output_type": "stream",
     "text": [
      "\n",
      "Epoch 26 - Metrics for valid:\n",
      "  valid_mean_iou: 0.4150\n",
      "  valid_loss: 1.1754\n",
      "  valid_iou_class_0: NaN\n",
      "  valid_iou_class_1: 0.5798\n",
      "  valid_iou_class_2: 0.4697\n",
      "  valid_iou_class_3: 0.5272\n",
      "  valid_iou_class_4: 0.0834\n",
      "\n",
      "Epoch 26 - Metrics for train:\n",
      "  train_mean_iou: 0.4489\n",
      "  train_loss: 1.0986\n",
      "  train_iou_class_0: NaN\n",
      "  train_iou_class_1: 0.6612\n",
      "  train_iou_class_2: 0.5511\n",
      "  train_iou_class_3: 0.5281\n",
      "  train_iou_class_4: 0.0553\n"
     ]
    },
    {
     "data": {
      "application/vnd.jupyter.widget-view+json": {
       "model_id": "e38870c9f3b446529bee21260c3a2753",
       "version_major": 2,
       "version_minor": 0
      },
      "text/plain": [
       "Validation: |          | 0/? [00:00<?, ?it/s]"
      ]
     },
     "metadata": {},
     "output_type": "display_data"
    },
    {
     "name": "stdout",
     "output_type": "stream",
     "text": [
      "\n",
      "Epoch 27 - Metrics for valid:\n",
      "  valid_mean_iou: 0.3924\n",
      "  valid_loss: 1.2378\n",
      "  valid_iou_class_0: NaN\n",
      "  valid_iou_class_1: 0.5499\n",
      "  valid_iou_class_2: 0.4632\n",
      "  valid_iou_class_3: 0.4691\n",
      "  valid_iou_class_4: 0.0872\n",
      "\n",
      "Epoch 27 - Metrics for train:\n",
      "  train_mean_iou: 0.4858\n",
      "  train_loss: 1.0392\n",
      "  train_iou_class_0: NaN\n",
      "  train_iou_class_1: 0.6862\n",
      "  train_iou_class_2: 0.5508\n",
      "  train_iou_class_3: 0.6014\n",
      "  train_iou_class_4: 0.1047\n"
     ]
    },
    {
     "data": {
      "application/vnd.jupyter.widget-view+json": {
       "model_id": "87fbe3cc38a0413eb40b6dbb29f46069",
       "version_major": 2,
       "version_minor": 0
      },
      "text/plain": [
       "Validation: |          | 0/? [00:00<?, ?it/s]"
      ]
     },
     "metadata": {},
     "output_type": "display_data"
    },
    {
     "name": "stdout",
     "output_type": "stream",
     "text": [
      "\n",
      "Epoch 28 - Metrics for valid:\n",
      "  valid_mean_iou: 0.4614\n",
      "  valid_loss: 1.1176\n",
      "  valid_iou_class_0: NaN\n",
      "  valid_iou_class_1: 0.6180\n",
      "  valid_iou_class_2: 0.5328\n",
      "  valid_iou_class_3: 0.5285\n",
      "  valid_iou_class_4: 0.1663\n",
      "\n",
      "Epoch 28 - Metrics for train:\n",
      "  train_mean_iou: 0.4976\n",
      "  train_loss: 1.0265\n",
      "  train_iou_class_0: NaN\n",
      "  train_iou_class_1: 0.6908\n",
      "  train_iou_class_2: 0.5582\n",
      "  train_iou_class_3: 0.6104\n",
      "  train_iou_class_4: 0.1310\n"
     ]
    },
    {
     "data": {
      "application/vnd.jupyter.widget-view+json": {
       "model_id": "88140a3c0dd74a9b984f55bdd7d335c0",
       "version_major": 2,
       "version_minor": 0
      },
      "text/plain": [
       "Validation: |          | 0/? [00:00<?, ?it/s]"
      ]
     },
     "metadata": {},
     "output_type": "display_data"
    },
    {
     "name": "stdout",
     "output_type": "stream",
     "text": [
      "\n",
      "Epoch 29 - Metrics for valid:\n",
      "  valid_mean_iou: 0.3543\n",
      "  valid_loss: 1.3691\n",
      "  valid_iou_class_0: NaN\n",
      "  valid_iou_class_1: 0.5067\n",
      "  valid_iou_class_2: 0.5342\n",
      "  valid_iou_class_3: 0.1825\n",
      "  valid_iou_class_4: 0.1936\n",
      "\n",
      "Epoch 29 - Metrics for train:\n",
      "  train_mean_iou: 0.5027\n",
      "  train_loss: 1.0129\n",
      "  train_iou_class_0: NaN\n",
      "  train_iou_class_1: 0.7091\n",
      "  train_iou_class_2: 0.5688\n",
      "  train_iou_class_3: 0.6169\n",
      "  train_iou_class_4: 0.1159\n"
     ]
    },
    {
     "data": {
      "application/vnd.jupyter.widget-view+json": {
       "model_id": "6daa8b5b5f9f4bc2b1a35a7c05c62260",
       "version_major": 2,
       "version_minor": 0
      },
      "text/plain": [
       "Validation: |          | 0/? [00:00<?, ?it/s]"
      ]
     },
     "metadata": {},
     "output_type": "display_data"
    },
    {
     "name": "stdout",
     "output_type": "stream",
     "text": [
      "\n",
      "Epoch 30 - Metrics for valid:\n",
      "  valid_mean_iou: 0.3237\n",
      "  valid_loss: 1.3940\n",
      "  valid_iou_class_0: NaN\n",
      "  valid_iou_class_1: 0.5060\n",
      "  valid_iou_class_2: 0.4855\n",
      "  valid_iou_class_3: 0.1275\n",
      "  valid_iou_class_4: 0.1759\n",
      "\n",
      "Epoch 30 - Metrics for train:\n",
      "  train_mean_iou: 0.5030\n",
      "  train_loss: 0.9952\n",
      "  train_iou_class_0: NaN\n",
      "  train_iou_class_1: 0.7067\n",
      "  train_iou_class_2: 0.5735\n",
      "  train_iou_class_3: 0.6106\n",
      "  train_iou_class_4: 0.1213\n"
     ]
    },
    {
     "data": {
      "application/vnd.jupyter.widget-view+json": {
       "model_id": "2840432a74be49cbbd671ba2e48b84a6",
       "version_major": 2,
       "version_minor": 0
      },
      "text/plain": [
       "Validation: |          | 0/? [00:00<?, ?it/s]"
      ]
     },
     "metadata": {},
     "output_type": "display_data"
    },
    {
     "name": "stdout",
     "output_type": "stream",
     "text": [
      "\n",
      "Epoch 31 - Metrics for valid:\n",
      "  valid_mean_iou: 0.4451\n",
      "  valid_loss: 1.0838\n",
      "  valid_iou_class_0: NaN\n",
      "  valid_iou_class_1: 0.6543\n",
      "  valid_iou_class_2: 0.4979\n",
      "  valid_iou_class_3: 0.5453\n",
      "  valid_iou_class_4: 0.0831\n",
      "\n",
      "Epoch 31 - Metrics for train:\n",
      "  train_mean_iou: 0.5163\n",
      "  train_loss: 0.9973\n",
      "  train_iou_class_0: NaN\n",
      "  train_iou_class_1: 0.7177\n",
      "  train_iou_class_2: 0.5851\n",
      "  train_iou_class_3: 0.6194\n",
      "  train_iou_class_4: 0.1429\n"
     ]
    },
    {
     "data": {
      "application/vnd.jupyter.widget-view+json": {
       "model_id": "d0e3637dad244d00b1452a89643f2188",
       "version_major": 2,
       "version_minor": 0
      },
      "text/plain": [
       "Validation: |          | 0/? [00:00<?, ?it/s]"
      ]
     },
     "metadata": {},
     "output_type": "display_data"
    },
    {
     "name": "stdout",
     "output_type": "stream",
     "text": [
      "\n",
      "Epoch 32 - Metrics for valid:\n",
      "  valid_mean_iou: 0.4948\n",
      "  valid_loss: 1.0634\n",
      "  valid_iou_class_0: NaN\n",
      "  valid_iou_class_1: 0.6996\n",
      "  valid_iou_class_2: 0.5266\n",
      "  valid_iou_class_3: 0.6163\n",
      "  valid_iou_class_4: 0.1368\n",
      "\n",
      "Epoch 32 - Metrics for train:\n",
      "  train_mean_iou: 0.5059\n",
      "  train_loss: 1.0081\n",
      "  train_iou_class_0: NaN\n",
      "  train_iou_class_1: 0.7053\n",
      "  train_iou_class_2: 0.5711\n",
      "  train_iou_class_3: 0.6125\n",
      "  train_iou_class_4: 0.1348\n"
     ]
    },
    {
     "data": {
      "application/vnd.jupyter.widget-view+json": {
       "model_id": "0835aee6049d471db8ca6d9f981edf1f",
       "version_major": 2,
       "version_minor": 0
      },
      "text/plain": [
       "Validation: |          | 0/? [00:00<?, ?it/s]"
      ]
     },
     "metadata": {},
     "output_type": "display_data"
    },
    {
     "name": "stdout",
     "output_type": "stream",
     "text": [
      "\n",
      "Epoch 33 - Metrics for valid:\n",
      "  valid_mean_iou: 0.1546\n",
      "  valid_loss: 1.7702\n",
      "  valid_iou_class_0: NaN\n",
      "  valid_iou_class_1: 0.3690\n",
      "  valid_iou_class_2: 0.1149\n",
      "  valid_iou_class_3: 0.0508\n",
      "  valid_iou_class_4: 0.0838\n",
      "\n",
      "Epoch 33 - Metrics for train:\n",
      "  train_mean_iou: 0.4963\n",
      "  train_loss: 1.0226\n",
      "  train_iou_class_0: NaN\n",
      "  train_iou_class_1: 0.7101\n",
      "  train_iou_class_2: 0.5771\n",
      "  train_iou_class_3: 0.6128\n",
      "  train_iou_class_4: 0.0854\n"
     ]
    },
    {
     "data": {
      "application/vnd.jupyter.widget-view+json": {
       "model_id": "031bd458d8c84a459b9d91903633a1d7",
       "version_major": 2,
       "version_minor": 0
      },
      "text/plain": [
       "Validation: |          | 0/? [00:00<?, ?it/s]"
      ]
     },
     "metadata": {},
     "output_type": "display_data"
    },
    {
     "name": "stdout",
     "output_type": "stream",
     "text": [
      "\n",
      "Epoch 34 - Metrics for valid:\n",
      "  valid_mean_iou: 0.4826\n",
      "  valid_loss: 1.0595\n",
      "  valid_iou_class_0: NaN\n",
      "  valid_iou_class_1: 0.6821\n",
      "  valid_iou_class_2: 0.4945\n",
      "  valid_iou_class_3: 0.6274\n",
      "  valid_iou_class_4: 0.1264\n",
      "\n",
      "Epoch 34 - Metrics for train:\n",
      "  train_mean_iou: 0.4942\n",
      "  train_loss: 1.0112\n",
      "  train_iou_class_0: NaN\n",
      "  train_iou_class_1: 0.7092\n",
      "  train_iou_class_2: 0.5690\n",
      "  train_iou_class_3: 0.6226\n",
      "  train_iou_class_4: 0.0762\n"
     ]
    },
    {
     "data": {
      "application/vnd.jupyter.widget-view+json": {
       "model_id": "faae5c486adb498d9300a6f1598f3028",
       "version_major": 2,
       "version_minor": 0
      },
      "text/plain": [
       "Validation: |          | 0/? [00:00<?, ?it/s]"
      ]
     },
     "metadata": {},
     "output_type": "display_data"
    },
    {
     "name": "stdout",
     "output_type": "stream",
     "text": [
      "\n",
      "Epoch 35 - Metrics for valid:\n",
      "  valid_mean_iou: 0.3829\n",
      "  valid_loss: 1.2480\n",
      "  valid_iou_class_0: NaN\n",
      "  valid_iou_class_1: 0.5439\n",
      "  valid_iou_class_2: 0.4543\n",
      "  valid_iou_class_3: 0.4140\n",
      "  valid_iou_class_4: 0.1193\n",
      "\n",
      "Epoch 35 - Metrics for train:\n",
      "  train_mean_iou: 0.5280\n",
      "  train_loss: 0.9899\n",
      "  train_iou_class_0: NaN\n",
      "  train_iou_class_1: 0.7303\n",
      "  train_iou_class_2: 0.5806\n",
      "  train_iou_class_3: 0.6500\n",
      "  train_iou_class_4: 0.1510\n"
     ]
    },
    {
     "data": {
      "application/vnd.jupyter.widget-view+json": {
       "model_id": "d95643a82de2404d967a9cc07a327c18",
       "version_major": 2,
       "version_minor": 0
      },
      "text/plain": [
       "Validation: |          | 0/? [00:00<?, ?it/s]"
      ]
     },
     "metadata": {},
     "output_type": "display_data"
    },
    {
     "name": "stdout",
     "output_type": "stream",
     "text": [
      "\n",
      "Epoch 36 - Metrics for valid:\n",
      "  valid_mean_iou: 0.3588\n",
      "  valid_loss: 1.3313\n",
      "  valid_iou_class_0: NaN\n",
      "  valid_iou_class_1: 0.5216\n",
      "  valid_iou_class_2: 0.4802\n",
      "  valid_iou_class_3: 0.2714\n",
      "  valid_iou_class_4: 0.1620\n",
      "\n",
      "Epoch 36 - Metrics for train:\n",
      "  train_mean_iou: 0.5234\n",
      "  train_loss: 0.9748\n",
      "  train_iou_class_0: NaN\n",
      "  train_iou_class_1: 0.7335\n",
      "  train_iou_class_2: 0.5942\n",
      "  train_iou_class_3: 0.6369\n",
      "  train_iou_class_4: 0.1290\n"
     ]
    },
    {
     "data": {
      "application/vnd.jupyter.widget-view+json": {
       "model_id": "4730115c9e8c4378a7078f933f5f920a",
       "version_major": 2,
       "version_minor": 0
      },
      "text/plain": [
       "Validation: |          | 0/? [00:00<?, ?it/s]"
      ]
     },
     "metadata": {},
     "output_type": "display_data"
    },
    {
     "name": "stdout",
     "output_type": "stream",
     "text": [
      "\n",
      "Epoch 37 - Metrics for valid:\n",
      "  valid_mean_iou: 0.4249\n",
      "  valid_loss: 1.1798\n",
      "  valid_iou_class_0: NaN\n",
      "  valid_iou_class_1: 0.5788\n",
      "  valid_iou_class_2: 0.4574\n",
      "  valid_iou_class_3: 0.5622\n",
      "  valid_iou_class_4: 0.1014\n",
      "\n",
      "Epoch 37 - Metrics for train:\n",
      "  train_mean_iou: 0.5178\n",
      "  train_loss: 0.9844\n",
      "  train_iou_class_0: NaN\n",
      "  train_iou_class_1: 0.7240\n",
      "  train_iou_class_2: 0.5921\n",
      "  train_iou_class_3: 0.6316\n",
      "  train_iou_class_4: 0.1235\n"
     ]
    },
    {
     "data": {
      "application/vnd.jupyter.widget-view+json": {
       "model_id": "724f2040661e4e3f830167a7f627aea6",
       "version_major": 2,
       "version_minor": 0
      },
      "text/plain": [
       "Validation: |          | 0/? [00:00<?, ?it/s]"
      ]
     },
     "metadata": {},
     "output_type": "display_data"
    },
    {
     "name": "stdout",
     "output_type": "stream",
     "text": [
      "\n",
      "Epoch 38 - Metrics for valid:\n",
      "  valid_mean_iou: 0.4199\n",
      "  valid_loss: 1.1990\n",
      "  valid_iou_class_0: NaN\n",
      "  valid_iou_class_1: 0.5754\n",
      "  valid_iou_class_2: 0.4867\n",
      "  valid_iou_class_3: 0.4590\n",
      "  valid_iou_class_4: 0.1586\n",
      "\n",
      "Epoch 38 - Metrics for train:\n",
      "  train_mean_iou: 0.5100\n",
      "  train_loss: 0.9800\n",
      "  train_iou_class_0: NaN\n",
      "  train_iou_class_1: 0.7256\n",
      "  train_iou_class_2: 0.5949\n",
      "  train_iou_class_3: 0.6255\n",
      "  train_iou_class_4: 0.0939\n"
     ]
    },
    {
     "data": {
      "application/vnd.jupyter.widget-view+json": {
       "model_id": "25a3d056973646bf9c71ff6f5e3da06e",
       "version_major": 2,
       "version_minor": 0
      },
      "text/plain": [
       "Validation: |          | 0/? [00:00<?, ?it/s]"
      ]
     },
     "metadata": {},
     "output_type": "display_data"
    },
    {
     "name": "stdout",
     "output_type": "stream",
     "text": [
      "\n",
      "Epoch 39 - Metrics for valid:\n",
      "  valid_mean_iou: 0.4971\n",
      "  valid_loss: 1.0389\n",
      "  valid_iou_class_0: NaN\n",
      "  valid_iou_class_1: 0.7074\n",
      "  valid_iou_class_2: 0.5620\n",
      "  valid_iou_class_3: 0.5816\n",
      "  valid_iou_class_4: 0.1376\n",
      "\n",
      "Epoch 39 - Metrics for train:\n",
      "  train_mean_iou: 0.5271\n",
      "  train_loss: 1.0003\n",
      "  train_iou_class_0: NaN\n",
      "  train_iou_class_1: 0.7293\n",
      "  train_iou_class_2: 0.5874\n",
      "  train_iou_class_3: 0.6413\n",
      "  train_iou_class_4: 0.1504\n"
     ]
    },
    {
     "data": {
      "application/vnd.jupyter.widget-view+json": {
       "model_id": "466a07e22aeb41faa71437f8ef05d9a8",
       "version_major": 2,
       "version_minor": 0
      },
      "text/plain": [
       "Validation: |          | 0/? [00:00<?, ?it/s]"
      ]
     },
     "metadata": {},
     "output_type": "display_data"
    },
    {
     "name": "stdout",
     "output_type": "stream",
     "text": [
      "\n",
      "Epoch 40 - Metrics for valid:\n",
      "  valid_mean_iou: 0.4470\n",
      "  valid_loss: 1.0960\n",
      "  valid_iou_class_0: NaN\n",
      "  valid_iou_class_1: 0.6503\n",
      "  valid_iou_class_2: 0.5530\n",
      "  valid_iou_class_3: 0.5307\n",
      "  valid_iou_class_4: 0.0541\n",
      "\n",
      "Epoch 40 - Metrics for train:\n",
      "  train_mean_iou: 0.5216\n",
      "  train_loss: 0.9625\n",
      "  train_iou_class_0: NaN\n",
      "  train_iou_class_1: 0.7271\n",
      "  train_iou_class_2: 0.5935\n",
      "  train_iou_class_3: 0.6428\n",
      "  train_iou_class_4: 0.1230\n"
     ]
    },
    {
     "data": {
      "application/vnd.jupyter.widget-view+json": {
       "model_id": "aabd599099174978b0a22c84b564f9c9",
       "version_major": 2,
       "version_minor": 0
      },
      "text/plain": [
       "Validation: |          | 0/? [00:00<?, ?it/s]"
      ]
     },
     "metadata": {},
     "output_type": "display_data"
    },
    {
     "name": "stdout",
     "output_type": "stream",
     "text": [
      "\n",
      "Epoch 41 - Metrics for valid:\n",
      "  valid_mean_iou: 0.4362\n",
      "  valid_loss: 1.1730\n",
      "  valid_iou_class_0: NaN\n",
      "  valid_iou_class_1: 0.5568\n",
      "  valid_iou_class_2: 0.5019\n",
      "  valid_iou_class_3: 0.5243\n",
      "  valid_iou_class_4: 0.1618\n",
      "\n",
      "Epoch 41 - Metrics for train:\n",
      "  train_mean_iou: 0.5349\n",
      "  train_loss: 0.9507\n",
      "  train_iou_class_0: NaN\n",
      "  train_iou_class_1: 0.7396\n",
      "  train_iou_class_2: 0.6023\n",
      "  train_iou_class_3: 0.6647\n",
      "  train_iou_class_4: 0.1329\n"
     ]
    },
    {
     "data": {
      "application/vnd.jupyter.widget-view+json": {
       "model_id": "2278def605124a829ccefbc44f5d9c3e",
       "version_major": 2,
       "version_minor": 0
      },
      "text/plain": [
       "Validation: |          | 0/? [00:00<?, ?it/s]"
      ]
     },
     "metadata": {},
     "output_type": "display_data"
    },
    {
     "name": "stdout",
     "output_type": "stream",
     "text": [
      "\n",
      "Epoch 42 - Metrics for valid:\n",
      "  valid_mean_iou: 0.4056\n",
      "  valid_loss: 1.2225\n",
      "  valid_iou_class_0: NaN\n",
      "  valid_iou_class_1: 0.5475\n",
      "  valid_iou_class_2: 0.4338\n",
      "  valid_iou_class_3: 0.5264\n",
      "  valid_iou_class_4: 0.1146\n",
      "\n",
      "Epoch 42 - Metrics for train:\n",
      "  train_mean_iou: 0.5140\n",
      "  train_loss: 0.9806\n",
      "  train_iou_class_0: NaN\n",
      "  train_iou_class_1: 0.7170\n",
      "  train_iou_class_2: 0.6047\n",
      "  train_iou_class_3: 0.6383\n",
      "  train_iou_class_4: 0.0959\n"
     ]
    },
    {
     "data": {
      "application/vnd.jupyter.widget-view+json": {
       "model_id": "",
       "version_major": 2,
       "version_minor": 0
      },
      "text/plain": [
       "Validation: |          | 0/? [00:00<?, ?it/s]"
      ]
     },
     "metadata": {},
     "output_type": "display_data"
    },
    {
     "name": "stdout",
     "output_type": "stream",
     "text": [
      "\n",
      "Epoch 43 - Metrics for valid:\n",
      "  valid_mean_iou: 0.2025\n",
      "  valid_loss: 1.6702\n",
      "  valid_iou_class_0: NaN\n",
      "  valid_iou_class_1: 0.1754\n",
      "  valid_iou_class_2: 0.3178\n",
      "  valid_iou_class_3: 0.2647\n",
      "  valid_iou_class_4: 0.0522\n",
      "\n",
      "Epoch 43 - Metrics for train:\n",
      "  train_mean_iou: 0.5180\n",
      "  train_loss: 0.9804\n",
      "  train_iou_class_0: NaN\n",
      "  train_iou_class_1: 0.7187\n",
      "  train_iou_class_2: 0.5997\n",
      "  train_iou_class_3: 0.6286\n",
      "  train_iou_class_4: 0.1250\n"
     ]
    },
    {
     "data": {
      "application/vnd.jupyter.widget-view+json": {
       "model_id": "",
       "version_major": 2,
       "version_minor": 0
      },
      "text/plain": [
       "Validation: |          | 0/? [00:00<?, ?it/s]"
      ]
     },
     "metadata": {},
     "output_type": "display_data"
    },
    {
     "name": "stdout",
     "output_type": "stream",
     "text": [
      "\n",
      "Epoch 44 - Metrics for valid:\n",
      "  valid_mean_iou: 0.3976\n",
      "  valid_loss: 1.2296\n",
      "  valid_iou_class_0: NaN\n",
      "  valid_iou_class_1: 0.5854\n",
      "  valid_iou_class_2: 0.5325\n",
      "  valid_iou_class_3: 0.4216\n",
      "  valid_iou_class_4: 0.0508\n",
      "\n",
      "Epoch 44 - Metrics for train:\n",
      "  train_mean_iou: 0.5184\n",
      "  train_loss: 0.9701\n",
      "  train_iou_class_0: NaN\n",
      "  train_iou_class_1: 0.7333\n",
      "  train_iou_class_2: 0.5947\n",
      "  train_iou_class_3: 0.6505\n",
      "  train_iou_class_4: 0.0953\n"
     ]
    },
    {
     "data": {
      "application/vnd.jupyter.widget-view+json": {
       "model_id": "",
       "version_major": 2,
       "version_minor": 0
      },
      "text/plain": [
       "Validation: |          | 0/? [00:00<?, ?it/s]"
      ]
     },
     "metadata": {},
     "output_type": "display_data"
    },
    {
     "name": "stdout",
     "output_type": "stream",
     "text": [
      "\n",
      "Epoch 45 - Metrics for valid:\n",
      "  valid_mean_iou: 0.4598\n",
      "  valid_loss: 1.0575\n",
      "  valid_iou_class_0: NaN\n",
      "  valid_iou_class_1: 0.6413\n",
      "  valid_iou_class_2: 0.5355\n",
      "  valid_iou_class_3: 0.5296\n",
      "  valid_iou_class_4: 0.1328\n",
      "\n",
      "Epoch 45 - Metrics for train:\n",
      "  train_mean_iou: 0.5308\n",
      "  train_loss: 0.9446\n",
      "  train_iou_class_0: NaN\n",
      "  train_iou_class_1: 0.7348\n",
      "  train_iou_class_2: 0.6047\n",
      "  train_iou_class_3: 0.6468\n",
      "  train_iou_class_4: 0.1367\n"
     ]
    },
    {
     "data": {
      "application/vnd.jupyter.widget-view+json": {
       "model_id": "",
       "version_major": 2,
       "version_minor": 0
      },
      "text/plain": [
       "Validation: |          | 0/? [00:00<?, ?it/s]"
      ]
     },
     "metadata": {},
     "output_type": "display_data"
    },
    {
     "name": "stdout",
     "output_type": "stream",
     "text": [
      "\n",
      "Epoch 46 - Metrics for valid:\n",
      "  valid_mean_iou: 0.4109\n",
      "  valid_loss: 1.2281\n",
      "  valid_iou_class_0: NaN\n",
      "  valid_iou_class_1: 0.5184\n",
      "  valid_iou_class_2: 0.5024\n",
      "  valid_iou_class_3: 0.4919\n",
      "  valid_iou_class_4: 0.1308\n",
      "\n",
      "Epoch 46 - Metrics for train:\n",
      "  train_mean_iou: 0.5568\n",
      "  train_loss: 0.9345\n",
      "  train_iou_class_0: NaN\n",
      "  train_iou_class_1: 0.7433\n",
      "  train_iou_class_2: 0.6064\n",
      "  train_iou_class_3: 0.6699\n",
      "  train_iou_class_4: 0.2075\n"
     ]
    },
    {
     "data": {
      "application/vnd.jupyter.widget-view+json": {
       "model_id": "",
       "version_major": 2,
       "version_minor": 0
      },
      "text/plain": [
       "Validation: |          | 0/? [00:00<?, ?it/s]"
      ]
     },
     "metadata": {},
     "output_type": "display_data"
    },
    {
     "name": "stdout",
     "output_type": "stream",
     "text": [
      "\n",
      "Epoch 47 - Metrics for valid:\n",
      "  valid_mean_iou: 0.3388\n",
      "  valid_loss: 1.3111\n",
      "  valid_iou_class_0: NaN\n",
      "  valid_iou_class_1: 0.4641\n",
      "  valid_iou_class_2: 0.4291\n",
      "  valid_iou_class_3: 0.3469\n",
      "  valid_iou_class_4: 0.1153\n",
      "\n",
      "Epoch 47 - Metrics for train:\n",
      "  train_mean_iou: 0.5376\n",
      "  train_loss: 0.9481\n",
      "  train_iou_class_0: NaN\n",
      "  train_iou_class_1: 0.7429\n",
      "  train_iou_class_2: 0.6170\n",
      "  train_iou_class_3: 0.6592\n",
      "  train_iou_class_4: 0.1312\n"
     ]
    },
    {
     "data": {
      "application/vnd.jupyter.widget-view+json": {
       "model_id": "",
       "version_major": 2,
       "version_minor": 0
      },
      "text/plain": [
       "Validation: |          | 0/? [00:00<?, ?it/s]"
      ]
     },
     "metadata": {},
     "output_type": "display_data"
    },
    {
     "name": "stdout",
     "output_type": "stream",
     "text": [
      "\n",
      "Epoch 48 - Metrics for valid:\n",
      "  valid_mean_iou: 0.3379\n",
      "  valid_loss: 1.3710\n",
      "  valid_iou_class_0: NaN\n",
      "  valid_iou_class_1: 0.4800\n",
      "  valid_iou_class_2: 0.4278\n",
      "  valid_iou_class_3: 0.3397\n",
      "  valid_iou_class_4: 0.1042\n",
      "\n",
      "Epoch 48 - Metrics for train:\n",
      "  train_mean_iou: 0.5350\n",
      "  train_loss: 0.9418\n",
      "  train_iou_class_0: NaN\n",
      "  train_iou_class_1: 0.7395\n",
      "  train_iou_class_2: 0.6192\n",
      "  train_iou_class_3: 0.6490\n",
      "  train_iou_class_4: 0.1326\n"
     ]
    },
    {
     "data": {
      "application/vnd.jupyter.widget-view+json": {
       "model_id": "",
       "version_major": 2,
       "version_minor": 0
      },
      "text/plain": [
       "Validation: |          | 0/? [00:00<?, ?it/s]"
      ]
     },
     "metadata": {},
     "output_type": "display_data"
    },
    {
     "name": "stdout",
     "output_type": "stream",
     "text": [
      "\n",
      "Epoch 49 - Metrics for valid:\n",
      "  valid_mean_iou: 0.4950\n",
      "  valid_loss: 1.0280\n",
      "  valid_iou_class_0: NaN\n",
      "  valid_iou_class_1: 0.6998\n",
      "  valid_iou_class_2: 0.5761\n",
      "  valid_iou_class_3: 0.5666\n",
      "  valid_iou_class_4: 0.1375\n",
      "\n",
      "Epoch 49 - Metrics for train:\n",
      "  train_mean_iou: 0.5466\n",
      "  train_loss: 0.9254\n",
      "  train_iou_class_0: NaN\n",
      "  train_iou_class_1: 0.7472\n",
      "  train_iou_class_2: 0.6201\n",
      "  train_iou_class_3: 0.6657\n",
      "  train_iou_class_4: 0.1535\n"
     ]
    },
    {
     "data": {
      "application/vnd.jupyter.widget-view+json": {
       "model_id": "",
       "version_major": 2,
       "version_minor": 0
      },
      "text/plain": [
       "Validation: |          | 0/? [00:00<?, ?it/s]"
      ]
     },
     "metadata": {},
     "output_type": "display_data"
    },
    {
     "name": "stdout",
     "output_type": "stream",
     "text": [
      "\n",
      "Epoch 50 - Metrics for valid:\n",
      "  valid_mean_iou: 0.4744\n",
      "  valid_loss: 1.0472\n",
      "  valid_iou_class_0: NaN\n",
      "  valid_iou_class_1: 0.6944\n",
      "  valid_iou_class_2: 0.5737\n",
      "  valid_iou_class_3: 0.5437\n",
      "  valid_iou_class_4: 0.0857\n",
      "\n",
      "Epoch 50 - Metrics for train:\n",
      "  train_mean_iou: 0.5461\n",
      "  train_loss: 0.9340\n",
      "  train_iou_class_0: NaN\n",
      "  train_iou_class_1: 0.7471\n",
      "  train_iou_class_2: 0.6234\n",
      "  train_iou_class_3: 0.6647\n",
      "  train_iou_class_4: 0.1493\n"
     ]
    },
    {
     "data": {
      "application/vnd.jupyter.widget-view+json": {
       "model_id": "",
       "version_major": 2,
       "version_minor": 0
      },
      "text/plain": [
       "Validation: |          | 0/? [00:00<?, ?it/s]"
      ]
     },
     "metadata": {},
     "output_type": "display_data"
    },
    {
     "name": "stdout",
     "output_type": "stream",
     "text": [
      "\n",
      "Epoch 51 - Metrics for valid:\n",
      "  valid_mean_iou: 0.4957\n",
      "  valid_loss: 1.0535\n",
      "  valid_iou_class_0: NaN\n",
      "  valid_iou_class_1: 0.7054\n",
      "  valid_iou_class_2: 0.5441\n",
      "  valid_iou_class_3: 0.6103\n",
      "  valid_iou_class_4: 0.1231\n",
      "\n",
      "Epoch 51 - Metrics for train:\n",
      "  train_mean_iou: 0.5395\n",
      "  train_loss: 0.9436\n",
      "  train_iou_class_0: NaN\n",
      "  train_iou_class_1: 0.7369\n",
      "  train_iou_class_2: 0.6081\n",
      "  train_iou_class_3: 0.6675\n",
      "  train_iou_class_4: 0.1456\n"
     ]
    },
    {
     "data": {
      "application/vnd.jupyter.widget-view+json": {
       "model_id": "",
       "version_major": 2,
       "version_minor": 0
      },
      "text/plain": [
       "Validation: |          | 0/? [00:00<?, ?it/s]"
      ]
     },
     "metadata": {},
     "output_type": "display_data"
    },
    {
     "name": "stdout",
     "output_type": "stream",
     "text": [
      "\n",
      "Epoch 52 - Metrics for valid:\n",
      "  valid_mean_iou: 0.5033\n",
      "  valid_loss: 1.0013\n",
      "  valid_iou_class_0: NaN\n",
      "  valid_iou_class_1: 0.7159\n",
      "  valid_iou_class_2: 0.5816\n",
      "  valid_iou_class_3: 0.6060\n",
      "  valid_iou_class_4: 0.1097\n",
      "\n",
      "Epoch 52 - Metrics for train:\n",
      "  train_mean_iou: 0.5531\n",
      "  train_loss: 0.9293\n",
      "  train_iou_class_0: NaN\n",
      "  train_iou_class_1: 0.7448\n",
      "  train_iou_class_2: 0.6159\n",
      "  train_iou_class_3: 0.6712\n",
      "  train_iou_class_4: 0.1805\n"
     ]
    },
    {
     "data": {
      "application/vnd.jupyter.widget-view+json": {
       "model_id": "",
       "version_major": 2,
       "version_minor": 0
      },
      "text/plain": [
       "Validation: |          | 0/? [00:00<?, ?it/s]"
      ]
     },
     "metadata": {},
     "output_type": "display_data"
    },
    {
     "name": "stdout",
     "output_type": "stream",
     "text": [
      "\n",
      "Epoch 53 - Metrics for valid:\n",
      "  valid_mean_iou: 0.4141\n",
      "  valid_loss: 1.2092\n",
      "  valid_iou_class_0: NaN\n",
      "  valid_iou_class_1: 0.5728\n",
      "  valid_iou_class_2: 0.5206\n",
      "  valid_iou_class_3: 0.4678\n",
      "  valid_iou_class_4: 0.0951\n",
      "\n",
      "Epoch 53 - Metrics for train:\n",
      "  train_mean_iou: 0.5539\n",
      "  train_loss: 0.9136\n",
      "  train_iou_class_0: NaN\n",
      "  train_iou_class_1: 0.7532\n",
      "  train_iou_class_2: 0.6258\n",
      "  train_iou_class_3: 0.6716\n",
      "  train_iou_class_4: 0.1652\n"
     ]
    },
    {
     "data": {
      "application/vnd.jupyter.widget-view+json": {
       "model_id": "",
       "version_major": 2,
       "version_minor": 0
      },
      "text/plain": [
       "Validation: |          | 0/? [00:00<?, ?it/s]"
      ]
     },
     "metadata": {},
     "output_type": "display_data"
    },
    {
     "name": "stdout",
     "output_type": "stream",
     "text": [
      "\n",
      "Epoch 54 - Metrics for valid:\n",
      "  valid_mean_iou: 0.4611\n",
      "  valid_loss: 1.1230\n",
      "  valid_iou_class_0: NaN\n",
      "  valid_iou_class_1: 0.5923\n",
      "  valid_iou_class_2: 0.5399\n",
      "  valid_iou_class_3: 0.5701\n",
      "  valid_iou_class_4: 0.1420\n",
      "\n",
      "Epoch 54 - Metrics for train:\n",
      "  train_mean_iou: 0.5593\n",
      "  train_loss: 0.9193\n",
      "  train_iou_class_0: NaN\n",
      "  train_iou_class_1: 0.7533\n",
      "  train_iou_class_2: 0.6232\n",
      "  train_iou_class_3: 0.6816\n",
      "  train_iou_class_4: 0.1791\n"
     ]
    },
    {
     "data": {
      "application/vnd.jupyter.widget-view+json": {
       "model_id": "",
       "version_major": 2,
       "version_minor": 0
      },
      "text/plain": [
       "Validation: |          | 0/? [00:00<?, ?it/s]"
      ]
     },
     "metadata": {},
     "output_type": "display_data"
    },
    {
     "name": "stdout",
     "output_type": "stream",
     "text": [
      "\n",
      "Epoch 55 - Metrics for valid:\n",
      "  valid_mean_iou: 0.4081\n",
      "  valid_loss: 1.1749\n",
      "  valid_iou_class_0: NaN\n",
      "  valid_iou_class_1: 0.5922\n",
      "  valid_iou_class_2: 0.4972\n",
      "  valid_iou_class_3: 0.4789\n",
      "  valid_iou_class_4: 0.0643\n",
      "\n",
      "Epoch 55 - Metrics for train:\n",
      "  train_mean_iou: 0.5577\n",
      "  train_loss: 0.9096\n",
      "  train_iou_class_0: NaN\n",
      "  train_iou_class_1: 0.7624\n",
      "  train_iou_class_2: 0.6290\n",
      "  train_iou_class_3: 0.6934\n",
      "  train_iou_class_4: 0.1459\n"
     ]
    },
    {
     "data": {
      "application/vnd.jupyter.widget-view+json": {
       "model_id": "",
       "version_major": 2,
       "version_minor": 0
      },
      "text/plain": [
       "Validation: |          | 0/? [00:00<?, ?it/s]"
      ]
     },
     "metadata": {},
     "output_type": "display_data"
    },
    {
     "name": "stdout",
     "output_type": "stream",
     "text": [
      "\n",
      "Epoch 56 - Metrics for valid:\n",
      "  valid_mean_iou: 0.5008\n",
      "  valid_loss: 1.0157\n",
      "  valid_iou_class_0: NaN\n",
      "  valid_iou_class_1: 0.7024\n",
      "  valid_iou_class_2: 0.5660\n",
      "  valid_iou_class_3: 0.6371\n",
      "  valid_iou_class_4: 0.0976\n",
      "\n",
      "Epoch 56 - Metrics for train:\n",
      "  train_mean_iou: 0.5476\n",
      "  train_loss: 0.9225\n",
      "  train_iou_class_0: NaN\n",
      "  train_iou_class_1: 0.7581\n",
      "  train_iou_class_2: 0.6340\n",
      "  train_iou_class_3: 0.6772\n",
      "  train_iou_class_4: 0.1213\n"
     ]
    },
    {
     "data": {
      "application/vnd.jupyter.widget-view+json": {
       "model_id": "",
       "version_major": 2,
       "version_minor": 0
      },
      "text/plain": [
       "Validation: |          | 0/? [00:00<?, ?it/s]"
      ]
     },
     "metadata": {},
     "output_type": "display_data"
    },
    {
     "name": "stdout",
     "output_type": "stream",
     "text": [
      "\n",
      "Epoch 57 - Metrics for valid:\n",
      "  valid_mean_iou: 0.5176\n",
      "  valid_loss: 1.0451\n",
      "  valid_iou_class_0: NaN\n",
      "  valid_iou_class_1: 0.6721\n",
      "  valid_iou_class_2: 0.5770\n",
      "  valid_iou_class_3: 0.6474\n",
      "  valid_iou_class_4: 0.1738\n",
      "\n",
      "Epoch 57 - Metrics for train:\n",
      "  train_mean_iou: 0.5618\n",
      "  train_loss: 0.9138\n",
      "  train_iou_class_0: NaN\n",
      "  train_iou_class_1: 0.7547\n",
      "  train_iou_class_2: 0.6224\n",
      "  train_iou_class_3: 0.6977\n",
      "  train_iou_class_4: 0.1724\n"
     ]
    },
    {
     "data": {
      "application/vnd.jupyter.widget-view+json": {
       "model_id": "",
       "version_major": 2,
       "version_minor": 0
      },
      "text/plain": [
       "Validation: |          | 0/? [00:00<?, ?it/s]"
      ]
     },
     "metadata": {},
     "output_type": "display_data"
    },
    {
     "name": "stdout",
     "output_type": "stream",
     "text": [
      "\n",
      "Epoch 58 - Metrics for valid:\n",
      "  valid_mean_iou: 0.4791\n",
      "  valid_loss: 1.0654\n",
      "  valid_iou_class_0: NaN\n",
      "  valid_iou_class_1: 0.6719\n",
      "  valid_iou_class_2: 0.5257\n",
      "  valid_iou_class_3: 0.5864\n",
      "  valid_iou_class_4: 0.1326\n",
      "\n",
      "Epoch 58 - Metrics for train:\n",
      "  train_mean_iou: 0.5638\n",
      "  train_loss: 0.8960\n",
      "  train_iou_class_0: NaN\n",
      "  train_iou_class_1: 0.7535\n",
      "  train_iou_class_2: 0.6345\n",
      "  train_iou_class_3: 0.6913\n",
      "  train_iou_class_4: 0.1758\n"
     ]
    },
    {
     "data": {
      "application/vnd.jupyter.widget-view+json": {
       "model_id": "",
       "version_major": 2,
       "version_minor": 0
      },
      "text/plain": [
       "Validation: |          | 0/? [00:00<?, ?it/s]"
      ]
     },
     "metadata": {},
     "output_type": "display_data"
    },
    {
     "name": "stdout",
     "output_type": "stream",
     "text": [
      "\n",
      "Epoch 59 - Metrics for valid:\n",
      "  valid_mean_iou: 0.5034\n",
      "  valid_loss: 1.0429\n",
      "  valid_iou_class_0: NaN\n",
      "  valid_iou_class_1: 0.7083\n",
      "  valid_iou_class_2: 0.5564\n",
      "  valid_iou_class_3: 0.5866\n",
      "  valid_iou_class_4: 0.1624\n",
      "\n",
      "Epoch 59 - Metrics for train:\n",
      "  train_mean_iou: 0.5699\n",
      "  train_loss: 0.9066\n",
      "  train_iou_class_0: NaN\n",
      "  train_iou_class_1: 0.7575\n",
      "  train_iou_class_2: 0.6258\n",
      "  train_iou_class_3: 0.6852\n",
      "  train_iou_class_4: 0.2109\n"
     ]
    },
    {
     "data": {
      "application/vnd.jupyter.widget-view+json": {
       "model_id": "",
       "version_major": 2,
       "version_minor": 0
      },
      "text/plain": [
       "Validation: |          | 0/? [00:00<?, ?it/s]"
      ]
     },
     "metadata": {},
     "output_type": "display_data"
    },
    {
     "name": "stdout",
     "output_type": "stream",
     "text": [
      "\n",
      "Epoch 60 - Metrics for valid:\n",
      "  valid_mean_iou: 0.4860\n",
      "  valid_loss: 1.0702\n",
      "  valid_iou_class_0: NaN\n",
      "  valid_iou_class_1: 0.6563\n",
      "  valid_iou_class_2: 0.5542\n",
      "  valid_iou_class_3: 0.6124\n",
      "  valid_iou_class_4: 0.1212\n",
      "\n",
      "Epoch 60 - Metrics for train:\n",
      "  train_mean_iou: 0.5615\n",
      "  train_loss: 0.9121\n",
      "  train_iou_class_0: NaN\n",
      "  train_iou_class_1: 0.7559\n",
      "  train_iou_class_2: 0.6378\n",
      "  train_iou_class_3: 0.6782\n",
      "  train_iou_class_4: 0.1741\n"
     ]
    },
    {
     "data": {
      "application/vnd.jupyter.widget-view+json": {
       "model_id": "",
       "version_major": 2,
       "version_minor": 0
      },
      "text/plain": [
       "Validation: |          | 0/? [00:00<?, ?it/s]"
      ]
     },
     "metadata": {},
     "output_type": "display_data"
    },
    {
     "name": "stdout",
     "output_type": "stream",
     "text": [
      "\n",
      "Epoch 61 - Metrics for valid:\n",
      "  valid_mean_iou: 0.5320\n",
      "  valid_loss: 1.0147\n",
      "  valid_iou_class_0: NaN\n",
      "  valid_iou_class_1: 0.7005\n",
      "  valid_iou_class_2: 0.5800\n",
      "  valid_iou_class_3: 0.6525\n",
      "  valid_iou_class_4: 0.1951\n",
      "\n",
      "Epoch 61 - Metrics for train:\n",
      "  train_mean_iou: 0.5773\n",
      "  train_loss: 0.8994\n",
      "  train_iou_class_0: NaN\n",
      "  train_iou_class_1: 0.7566\n",
      "  train_iou_class_2: 0.6399\n",
      "  train_iou_class_3: 0.6977\n",
      "  train_iou_class_4: 0.2151\n"
     ]
    },
    {
     "data": {
      "application/vnd.jupyter.widget-view+json": {
       "model_id": "",
       "version_major": 2,
       "version_minor": 0
      },
      "text/plain": [
       "Validation: |          | 0/? [00:00<?, ?it/s]"
      ]
     },
     "metadata": {},
     "output_type": "display_data"
    },
    {
     "name": "stdout",
     "output_type": "stream",
     "text": [
      "\n",
      "Epoch 62 - Metrics for valid:\n",
      "  valid_mean_iou: 0.3887\n",
      "  valid_loss: 1.2920\n",
      "  valid_iou_class_0: NaN\n",
      "  valid_iou_class_1: 0.5023\n",
      "  valid_iou_class_2: 0.4598\n",
      "  valid_iou_class_3: 0.4017\n",
      "  valid_iou_class_4: 0.1911\n",
      "\n",
      "Epoch 62 - Metrics for train:\n",
      "  train_mean_iou: 0.5699\n",
      "  train_loss: 0.9111\n",
      "  train_iou_class_0: NaN\n",
      "  train_iou_class_1: 0.7497\n",
      "  train_iou_class_2: 0.6332\n",
      "  train_iou_class_3: 0.6836\n",
      "  train_iou_class_4: 0.2129\n"
     ]
    },
    {
     "data": {
      "application/vnd.jupyter.widget-view+json": {
       "model_id": "",
       "version_major": 2,
       "version_minor": 0
      },
      "text/plain": [
       "Validation: |          | 0/? [00:00<?, ?it/s]"
      ]
     },
     "metadata": {},
     "output_type": "display_data"
    },
    {
     "name": "stdout",
     "output_type": "stream",
     "text": [
      "\n",
      "Epoch 63 - Metrics for valid:\n",
      "  valid_mean_iou: 0.1914\n",
      "  valid_loss: 1.6737\n",
      "  valid_iou_class_0: NaN\n",
      "  valid_iou_class_1: 0.3800\n",
      "  valid_iou_class_2: 0.1052\n",
      "  valid_iou_class_3: 0.1766\n",
      "  valid_iou_class_4: 0.1038\n",
      "\n",
      "Epoch 63 - Metrics for train:\n",
      "  train_mean_iou: 0.5528\n",
      "  train_loss: 0.9290\n",
      "  train_iou_class_0: NaN\n",
      "  train_iou_class_1: 0.7398\n",
      "  train_iou_class_2: 0.6247\n",
      "  train_iou_class_3: 0.6587\n",
      "  train_iou_class_4: 0.1882\n"
     ]
    },
    {
     "data": {
      "application/vnd.jupyter.widget-view+json": {
       "model_id": "",
       "version_major": 2,
       "version_minor": 0
      },
      "text/plain": [
       "Validation: |          | 0/? [00:00<?, ?it/s]"
      ]
     },
     "metadata": {},
     "output_type": "display_data"
    },
    {
     "name": "stdout",
     "output_type": "stream",
     "text": [
      "\n",
      "Epoch 64 - Metrics for valid:\n",
      "  valid_mean_iou: 0.3086\n",
      "  valid_loss: 1.3935\n",
      "  valid_iou_class_0: NaN\n",
      "  valid_iou_class_1: 0.4367\n",
      "  valid_iou_class_2: 0.4570\n",
      "  valid_iou_class_3: 0.2927\n",
      "  valid_iou_class_4: 0.0481\n",
      "\n",
      "Epoch 64 - Metrics for train:\n",
      "  train_mean_iou: 0.5028\n",
      "  train_loss: 0.9823\n",
      "  train_iou_class_0: NaN\n",
      "  train_iou_class_1: 0.7123\n",
      "  train_iou_class_2: 0.6058\n",
      "  train_iou_class_3: 0.6079\n",
      "  train_iou_class_4: 0.0851\n"
     ]
    },
    {
     "data": {
      "application/vnd.jupyter.widget-view+json": {
       "model_id": "",
       "version_major": 2,
       "version_minor": 0
      },
      "text/plain": [
       "Validation: |          | 0/? [00:00<?, ?it/s]"
      ]
     },
     "metadata": {},
     "output_type": "display_data"
    },
    {
     "name": "stdout",
     "output_type": "stream",
     "text": [
      "\n",
      "Epoch 65 - Metrics for valid:\n",
      "  valid_mean_iou: 0.3790\n",
      "  valid_loss: 1.2676\n",
      "  valid_iou_class_0: NaN\n",
      "  valid_iou_class_1: 0.5278\n",
      "  valid_iou_class_2: 0.5233\n",
      "  valid_iou_class_3: 0.4436\n",
      "  valid_iou_class_4: 0.0213\n",
      "\n",
      "Epoch 65 - Metrics for train:\n",
      "  train_mean_iou: 0.5212\n",
      "  train_loss: 0.9492\n",
      "  train_iou_class_0: NaN\n",
      "  train_iou_class_1: 0.7293\n",
      "  train_iou_class_2: 0.6097\n",
      "  train_iou_class_3: 0.6388\n",
      "  train_iou_class_4: 0.1070\n"
     ]
    },
    {
     "data": {
      "application/vnd.jupyter.widget-view+json": {
       "model_id": "",
       "version_major": 2,
       "version_minor": 0
      },
      "text/plain": [
       "Validation: |          | 0/? [00:00<?, ?it/s]"
      ]
     },
     "metadata": {},
     "output_type": "display_data"
    },
    {
     "name": "stdout",
     "output_type": "stream",
     "text": [
      "\n",
      "Epoch 66 - Metrics for valid:\n",
      "  valid_mean_iou: 0.2945\n",
      "  valid_loss: 1.4958\n",
      "  valid_iou_class_0: NaN\n",
      "  valid_iou_class_1: 0.4123\n",
      "  valid_iou_class_2: 0.2472\n",
      "  valid_iou_class_3: 0.3319\n",
      "  valid_iou_class_4: 0.1865\n",
      "\n",
      "Epoch 66 - Metrics for train:\n",
      "  train_mean_iou: 0.5226\n",
      "  train_loss: 0.9448\n",
      "  train_iou_class_0: NaN\n",
      "  train_iou_class_1: 0.7390\n",
      "  train_iou_class_2: 0.6280\n",
      "  train_iou_class_3: 0.6366\n",
      "  train_iou_class_4: 0.0869\n"
     ]
    },
    {
     "data": {
      "application/vnd.jupyter.widget-view+json": {
       "model_id": "",
       "version_major": 2,
       "version_minor": 0
      },
      "text/plain": [
       "Validation: |          | 0/? [00:00<?, ?it/s]"
      ]
     },
     "metadata": {},
     "output_type": "display_data"
    },
    {
     "name": "stdout",
     "output_type": "stream",
     "text": [
      "\n",
      "Epoch 67 - Metrics for valid:\n",
      "  valid_mean_iou: 0.4973\n",
      "  valid_loss: 1.0576\n",
      "  valid_iou_class_0: NaN\n",
      "  valid_iou_class_1: 0.6507\n",
      "  valid_iou_class_2: 0.5381\n",
      "  valid_iou_class_3: 0.6419\n",
      "  valid_iou_class_4: 0.1586\n",
      "\n",
      "Epoch 67 - Metrics for train:\n",
      "  train_mean_iou: 0.5477\n",
      "  train_loss: 0.9430\n",
      "  train_iou_class_0: NaN\n",
      "  train_iou_class_1: 0.7314\n",
      "  train_iou_class_2: 0.6236\n",
      "  train_iou_class_3: 0.6433\n",
      "  train_iou_class_4: 0.1925\n"
     ]
    },
    {
     "data": {
      "application/vnd.jupyter.widget-view+json": {
       "model_id": "",
       "version_major": 2,
       "version_minor": 0
      },
      "text/plain": [
       "Validation: |          | 0/? [00:00<?, ?it/s]"
      ]
     },
     "metadata": {},
     "output_type": "display_data"
    },
    {
     "name": "stdout",
     "output_type": "stream",
     "text": [
      "\n",
      "Epoch 68 - Metrics for valid:\n",
      "  valid_mean_iou: 0.4973\n",
      "  valid_loss: 1.0555\n",
      "  valid_iou_class_0: NaN\n",
      "  valid_iou_class_1: 0.6765\n",
      "  valid_iou_class_2: 0.5667\n",
      "  valid_iou_class_3: 0.6469\n",
      "  valid_iou_class_4: 0.0993\n",
      "\n",
      "Epoch 68 - Metrics for train:\n",
      "  train_mean_iou: 0.5460\n",
      "  train_loss: 0.9029\n",
      "  train_iou_class_0: NaN\n",
      "  train_iou_class_1: 0.7417\n",
      "  train_iou_class_2: 0.6288\n",
      "  train_iou_class_3: 0.6628\n",
      "  train_iou_class_4: 0.1509\n"
     ]
    },
    {
     "data": {
      "application/vnd.jupyter.widget-view+json": {
       "model_id": "",
       "version_major": 2,
       "version_minor": 0
      },
      "text/plain": [
       "Validation: |          | 0/? [00:00<?, ?it/s]"
      ]
     },
     "metadata": {},
     "output_type": "display_data"
    },
    {
     "name": "stdout",
     "output_type": "stream",
     "text": [
      "\n",
      "Epoch 69 - Metrics for valid:\n",
      "  valid_mean_iou: 0.4733\n",
      "  valid_loss: 1.1089\n",
      "  valid_iou_class_0: NaN\n",
      "  valid_iou_class_1: 0.6926\n",
      "  valid_iou_class_2: 0.5643\n",
      "  valid_iou_class_3: 0.5263\n",
      "  valid_iou_class_4: 0.1101\n",
      "\n",
      "Epoch 69 - Metrics for train:\n",
      "  train_mean_iou: 0.5542\n",
      "  train_loss: 0.9030\n",
      "  train_iou_class_0: NaN\n",
      "  train_iou_class_1: 0.7613\n",
      "  train_iou_class_2: 0.6462\n",
      "  train_iou_class_3: 0.6794\n",
      "  train_iou_class_4: 0.1298\n"
     ]
    },
    {
     "data": {
      "application/vnd.jupyter.widget-view+json": {
       "model_id": "",
       "version_major": 2,
       "version_minor": 0
      },
      "text/plain": [
       "Validation: |          | 0/? [00:00<?, ?it/s]"
      ]
     },
     "metadata": {},
     "output_type": "display_data"
    },
    {
     "name": "stdout",
     "output_type": "stream",
     "text": [
      "\n",
      "Epoch 70 - Metrics for valid:\n",
      "  valid_mean_iou: 0.5228\n",
      "  valid_loss: 1.0021\n",
      "  valid_iou_class_0: NaN\n",
      "  valid_iou_class_1: 0.7369\n",
      "  valid_iou_class_2: 0.5959\n",
      "  valid_iou_class_3: 0.6155\n",
      "  valid_iou_class_4: 0.1430\n",
      "\n",
      "Epoch 70 - Metrics for train:\n",
      "  train_mean_iou: 0.5661\n",
      "  train_loss: 0.8914\n",
      "  train_iou_class_0: NaN\n",
      "  train_iou_class_1: 0.7634\n",
      "  train_iou_class_2: 0.6480\n",
      "  train_iou_class_3: 0.6969\n",
      "  train_iou_class_4: 0.1561\n"
     ]
    },
    {
     "data": {
      "application/vnd.jupyter.widget-view+json": {
       "model_id": "",
       "version_major": 2,
       "version_minor": 0
      },
      "text/plain": [
       "Validation: |          | 0/? [00:00<?, ?it/s]"
      ]
     },
     "metadata": {},
     "output_type": "display_data"
    },
    {
     "name": "stdout",
     "output_type": "stream",
     "text": [
      "\n",
      "Epoch 71 - Metrics for valid:\n",
      "  valid_mean_iou: 0.4874\n",
      "  valid_loss: 1.0398\n",
      "  valid_iou_class_0: NaN\n",
      "  valid_iou_class_1: 0.6650\n",
      "  valid_iou_class_2: 0.5895\n",
      "  valid_iou_class_3: 0.5772\n",
      "  valid_iou_class_4: 0.1178\n",
      "\n",
      "Epoch 71 - Metrics for train:\n",
      "  train_mean_iou: 0.5740\n",
      "  train_loss: 0.8866\n",
      "  train_iou_class_0: NaN\n",
      "  train_iou_class_1: 0.7730\n",
      "  train_iou_class_2: 0.6486\n",
      "  train_iou_class_3: 0.7020\n",
      "  train_iou_class_4: 0.1723\n"
     ]
    },
    {
     "data": {
      "application/vnd.jupyter.widget-view+json": {
       "model_id": "",
       "version_major": 2,
       "version_minor": 0
      },
      "text/plain": [
       "Validation: |          | 0/? [00:00<?, ?it/s]"
      ]
     },
     "metadata": {},
     "output_type": "display_data"
    },
    {
     "name": "stdout",
     "output_type": "stream",
     "text": [
      "\n",
      "Epoch 72 - Metrics for valid:\n",
      "  valid_mean_iou: 0.5287\n",
      "  valid_loss: 0.9646\n",
      "  valid_iou_class_0: NaN\n",
      "  valid_iou_class_1: 0.7349\n",
      "  valid_iou_class_2: 0.6051\n",
      "  valid_iou_class_3: 0.6446\n",
      "  valid_iou_class_4: 0.1301\n",
      "\n",
      "Epoch 72 - Metrics for train:\n",
      "  train_mean_iou: 0.5750\n",
      "  train_loss: 0.8786\n",
      "  train_iou_class_0: NaN\n",
      "  train_iou_class_1: 0.7693\n",
      "  train_iou_class_2: 0.6526\n",
      "  train_iou_class_3: 0.7060\n",
      "  train_iou_class_4: 0.1720\n"
     ]
    },
    {
     "data": {
      "application/vnd.jupyter.widget-view+json": {
       "model_id": "",
       "version_major": 2,
       "version_minor": 0
      },
      "text/plain": [
       "Validation: |          | 0/? [00:00<?, ?it/s]"
      ]
     },
     "metadata": {},
     "output_type": "display_data"
    },
    {
     "name": "stdout",
     "output_type": "stream",
     "text": [
      "\n",
      "Epoch 73 - Metrics for valid:\n",
      "  valid_mean_iou: 0.5388\n",
      "  valid_loss: 0.9620\n",
      "  valid_iou_class_0: NaN\n",
      "  valid_iou_class_1: 0.7251\n",
      "  valid_iou_class_2: 0.5967\n",
      "  valid_iou_class_3: 0.6725\n",
      "  valid_iou_class_4: 0.1610\n",
      "\n",
      "Epoch 73 - Metrics for train:\n",
      "  train_mean_iou: 0.5801\n",
      "  train_loss: 0.8777\n",
      "  train_iou_class_0: NaN\n",
      "  train_iou_class_1: 0.7682\n",
      "  train_iou_class_2: 0.6542\n",
      "  train_iou_class_3: 0.7078\n",
      "  train_iou_class_4: 0.1901\n"
     ]
    },
    {
     "data": {
      "application/vnd.jupyter.widget-view+json": {
       "model_id": "",
       "version_major": 2,
       "version_minor": 0
      },
      "text/plain": [
       "Validation: |          | 0/? [00:00<?, ?it/s]"
      ]
     },
     "metadata": {},
     "output_type": "display_data"
    },
    {
     "name": "stdout",
     "output_type": "stream",
     "text": [
      "\n",
      "Epoch 74 - Metrics for valid:\n",
      "  valid_mean_iou: 0.5310\n",
      "  valid_loss: 0.9719\n",
      "  valid_iou_class_0: NaN\n",
      "  valid_iou_class_1: 0.7281\n",
      "  valid_iou_class_2: 0.6149\n",
      "  valid_iou_class_3: 0.6239\n",
      "  valid_iou_class_4: 0.1570\n",
      "\n",
      "Epoch 74 - Metrics for train:\n",
      "  train_mean_iou: 0.5844\n",
      "  train_loss: 0.8544\n",
      "  train_iou_class_0: NaN\n",
      "  train_iou_class_1: 0.7677\n",
      "  train_iou_class_2: 0.6615\n",
      "  train_iou_class_3: 0.7086\n",
      "  train_iou_class_4: 0.1997\n"
     ]
    },
    {
     "data": {
      "application/vnd.jupyter.widget-view+json": {
       "model_id": "",
       "version_major": 2,
       "version_minor": 0
      },
      "text/plain": [
       "Validation: |          | 0/? [00:00<?, ?it/s]"
      ]
     },
     "metadata": {},
     "output_type": "display_data"
    },
    {
     "name": "stdout",
     "output_type": "stream",
     "text": [
      "\n",
      "Epoch 75 - Metrics for valid:\n",
      "  valid_mean_iou: 0.5392\n",
      "  valid_loss: 0.9704\n",
      "  valid_iou_class_0: NaN\n",
      "  valid_iou_class_1: 0.7039\n",
      "  valid_iou_class_2: 0.6133\n",
      "  valid_iou_class_3: 0.6731\n",
      "  valid_iou_class_4: 0.1666\n",
      "\n",
      "Epoch 75 - Metrics for train:\n",
      "  train_mean_iou: 0.5845\n",
      "  train_loss: 0.8648\n",
      "  train_iou_class_0: NaN\n",
      "  train_iou_class_1: 0.7688\n",
      "  train_iou_class_2: 0.6631\n",
      "  train_iou_class_3: 0.7121\n",
      "  train_iou_class_4: 0.1941\n"
     ]
    },
    {
     "data": {
      "application/vnd.jupyter.widget-view+json": {
       "model_id": "",
       "version_major": 2,
       "version_minor": 0
      },
      "text/plain": [
       "Validation: |          | 0/? [00:00<?, ?it/s]"
      ]
     },
     "metadata": {},
     "output_type": "display_data"
    },
    {
     "name": "stdout",
     "output_type": "stream",
     "text": [
      "\n",
      "Epoch 76 - Metrics for valid:\n",
      "  valid_mean_iou: 0.5251\n",
      "  valid_loss: 0.9952\n",
      "  valid_iou_class_0: NaN\n",
      "  valid_iou_class_1: 0.7212\n",
      "  valid_iou_class_2: 0.5951\n",
      "  valid_iou_class_3: 0.6202\n",
      "  valid_iou_class_4: 0.1638\n",
      "\n",
      "Epoch 76 - Metrics for train:\n",
      "  train_mean_iou: 0.5863\n",
      "  train_loss: 0.8712\n",
      "  train_iou_class_0: NaN\n",
      "  train_iou_class_1: 0.7670\n",
      "  train_iou_class_2: 0.6543\n",
      "  train_iou_class_3: 0.7184\n",
      "  train_iou_class_4: 0.2057\n"
     ]
    },
    {
     "data": {
      "application/vnd.jupyter.widget-view+json": {
       "model_id": "",
       "version_major": 2,
       "version_minor": 0
      },
      "text/plain": [
       "Validation: |          | 0/? [00:00<?, ?it/s]"
      ]
     },
     "metadata": {},
     "output_type": "display_data"
    },
    {
     "name": "stdout",
     "output_type": "stream",
     "text": [
      "\n",
      "Epoch 77 - Metrics for valid:\n",
      "  valid_mean_iou: 0.5116\n",
      "  valid_loss: 1.0112\n",
      "  valid_iou_class_0: NaN\n",
      "  valid_iou_class_1: 0.7021\n",
      "  valid_iou_class_2: 0.6081\n",
      "  valid_iou_class_3: 0.6124\n",
      "  valid_iou_class_4: 0.1238\n",
      "\n",
      "Epoch 77 - Metrics for train:\n",
      "  train_mean_iou: 0.5847\n",
      "  train_loss: 0.8615\n",
      "  train_iou_class_0: NaN\n",
      "  train_iou_class_1: 0.7711\n",
      "  train_iou_class_2: 0.6614\n",
      "  train_iou_class_3: 0.7124\n",
      "  train_iou_class_4: 0.1938\n"
     ]
    },
    {
     "data": {
      "application/vnd.jupyter.widget-view+json": {
       "model_id": "",
       "version_major": 2,
       "version_minor": 0
      },
      "text/plain": [
       "Validation: |          | 0/? [00:00<?, ?it/s]"
      ]
     },
     "metadata": {},
     "output_type": "display_data"
    },
    {
     "name": "stdout",
     "output_type": "stream",
     "text": [
      "\n",
      "Epoch 78 - Metrics for valid:\n",
      "  valid_mean_iou: 0.5224\n",
      "  valid_loss: 0.9932\n",
      "  valid_iou_class_0: NaN\n",
      "  valid_iou_class_1: 0.7264\n",
      "  valid_iou_class_2: 0.6023\n",
      "  valid_iou_class_3: 0.6103\n",
      "  valid_iou_class_4: 0.1507\n",
      "\n",
      "Epoch 78 - Metrics for train:\n",
      "  train_mean_iou: 0.5787\n",
      "  train_loss: 0.8685\n",
      "  train_iou_class_0: NaN\n",
      "  train_iou_class_1: 0.7750\n",
      "  train_iou_class_2: 0.6586\n",
      "  train_iou_class_3: 0.7037\n",
      "  train_iou_class_4: 0.1773\n"
     ]
    },
    {
     "data": {
      "application/vnd.jupyter.widget-view+json": {
       "model_id": "",
       "version_major": 2,
       "version_minor": 0
      },
      "text/plain": [
       "Validation: |          | 0/? [00:00<?, ?it/s]"
      ]
     },
     "metadata": {},
     "output_type": "display_data"
    },
    {
     "name": "stdout",
     "output_type": "stream",
     "text": [
      "\n",
      "Epoch 79 - Metrics for valid:\n",
      "  valid_mean_iou: 0.5227\n",
      "  valid_loss: 1.0215\n",
      "  valid_iou_class_0: NaN\n",
      "  valid_iou_class_1: 0.6693\n",
      "  valid_iou_class_2: 0.5903\n",
      "  valid_iou_class_3: 0.6710\n",
      "  valid_iou_class_4: 0.1601\n",
      "\n",
      "Epoch 79 - Metrics for train:\n",
      "  train_mean_iou: 0.5820\n",
      "  train_loss: 0.8567\n",
      "  train_iou_class_0: NaN\n",
      "  train_iou_class_1: 0.7716\n",
      "  train_iou_class_2: 0.6616\n",
      "  train_iou_class_3: 0.7113\n",
      "  train_iou_class_4: 0.1835\n"
     ]
    },
    {
     "data": {
      "application/vnd.jupyter.widget-view+json": {
       "model_id": "",
       "version_major": 2,
       "version_minor": 0
      },
      "text/plain": [
       "Validation: |          | 0/? [00:00<?, ?it/s]"
      ]
     },
     "metadata": {},
     "output_type": "display_data"
    },
    {
     "name": "stdout",
     "output_type": "stream",
     "text": [
      "\n",
      "Epoch 80 - Metrics for valid:\n",
      "  valid_mean_iou: 0.5438\n",
      "  valid_loss: 0.9943\n",
      "  valid_iou_class_0: NaN\n",
      "  valid_iou_class_1: 0.7266\n",
      "  valid_iou_class_2: 0.6093\n",
      "  valid_iou_class_3: 0.6675\n",
      "  valid_iou_class_4: 0.1719\n",
      "\n",
      "Epoch 80 - Metrics for train:\n",
      "  train_mean_iou: 0.5849\n",
      "  train_loss: 0.8398\n",
      "  train_iou_class_0: NaN\n",
      "  train_iou_class_1: 0.7732\n",
      "  train_iou_class_2: 0.6609\n",
      "  train_iou_class_3: 0.7214\n",
      "  train_iou_class_4: 0.1839\n"
     ]
    },
    {
     "data": {
      "application/vnd.jupyter.widget-view+json": {
       "model_id": "",
       "version_major": 2,
       "version_minor": 0
      },
      "text/plain": [
       "Validation: |          | 0/? [00:00<?, ?it/s]"
      ]
     },
     "metadata": {},
     "output_type": "display_data"
    },
    {
     "name": "stdout",
     "output_type": "stream",
     "text": [
      "\n",
      "Epoch 81 - Metrics for valid:\n",
      "  valid_mean_iou: 0.5442\n",
      "  valid_loss: 0.9676\n",
      "  valid_iou_class_0: NaN\n",
      "  valid_iou_class_1: 0.7257\n",
      "  valid_iou_class_2: 0.6107\n",
      "  valid_iou_class_3: 0.6852\n",
      "  valid_iou_class_4: 0.1551\n",
      "\n",
      "Epoch 81 - Metrics for train:\n",
      "  train_mean_iou: 0.5896\n",
      "  train_loss: 0.8525\n",
      "  train_iou_class_0: NaN\n",
      "  train_iou_class_1: 0.7735\n",
      "  train_iou_class_2: 0.6642\n",
      "  train_iou_class_3: 0.7244\n",
      "  train_iou_class_4: 0.1961\n"
     ]
    },
    {
     "data": {
      "application/vnd.jupyter.widget-view+json": {
       "model_id": "",
       "version_major": 2,
       "version_minor": 0
      },
      "text/plain": [
       "Validation: |          | 0/? [00:00<?, ?it/s]"
      ]
     },
     "metadata": {},
     "output_type": "display_data"
    },
    {
     "name": "stdout",
     "output_type": "stream",
     "text": [
      "\n",
      "Epoch 82 - Metrics for valid:\n",
      "  valid_mean_iou: 0.5427\n",
      "  valid_loss: 0.9900\n",
      "  valid_iou_class_0: NaN\n",
      "  valid_iou_class_1: 0.7190\n",
      "  valid_iou_class_2: 0.5967\n",
      "  valid_iou_class_3: 0.6925\n",
      "  valid_iou_class_4: 0.1626\n",
      "\n",
      "Epoch 82 - Metrics for train:\n",
      "  train_mean_iou: 0.5903\n",
      "  train_loss: 0.8440\n",
      "  train_iou_class_0: NaN\n",
      "  train_iou_class_1: 0.7730\n",
      "  train_iou_class_2: 0.6643\n",
      "  train_iou_class_3: 0.7230\n",
      "  train_iou_class_4: 0.2008\n"
     ]
    },
    {
     "data": {
      "application/vnd.jupyter.widget-view+json": {
       "model_id": "",
       "version_major": 2,
       "version_minor": 0
      },
      "text/plain": [
       "Validation: |          | 0/? [00:00<?, ?it/s]"
      ]
     },
     "metadata": {},
     "output_type": "display_data"
    },
    {
     "name": "stdout",
     "output_type": "stream",
     "text": [
      "\n",
      "Epoch 83 - Metrics for valid:\n",
      "  valid_mean_iou: 0.5515\n",
      "  valid_loss: 0.9412\n",
      "  valid_iou_class_0: NaN\n",
      "  valid_iou_class_1: 0.7295\n",
      "  valid_iou_class_2: 0.6163\n",
      "  valid_iou_class_3: 0.6828\n",
      "  valid_iou_class_4: 0.1773\n",
      "\n",
      "Epoch 83 - Metrics for train:\n",
      "  train_mean_iou: 0.5906\n",
      "  train_loss: 0.8562\n",
      "  train_iou_class_0: NaN\n",
      "  train_iou_class_1: 0.7742\n",
      "  train_iou_class_2: 0.6665\n",
      "  train_iou_class_3: 0.7248\n",
      "  train_iou_class_4: 0.1968\n"
     ]
    },
    {
     "data": {
      "application/vnd.jupyter.widget-view+json": {
       "model_id": "",
       "version_major": 2,
       "version_minor": 0
      },
      "text/plain": [
       "Validation: |          | 0/? [00:00<?, ?it/s]"
      ]
     },
     "metadata": {},
     "output_type": "display_data"
    },
    {
     "name": "stdout",
     "output_type": "stream",
     "text": [
      "\n",
      "Epoch 84 - Metrics for valid:\n",
      "  valid_mean_iou: 0.5420\n",
      "  valid_loss: 0.9980\n",
      "  valid_iou_class_0: NaN\n",
      "  valid_iou_class_1: 0.6800\n",
      "  valid_iou_class_2: 0.5970\n",
      "  valid_iou_class_3: 0.6761\n",
      "  valid_iou_class_4: 0.2151\n",
      "\n",
      "Epoch 84 - Metrics for train:\n",
      "  train_mean_iou: 0.5954\n",
      "  train_loss: 0.8549\n",
      "  train_iou_class_0: NaN\n",
      "  train_iou_class_1: 0.7773\n",
      "  train_iou_class_2: 0.6658\n",
      "  train_iou_class_3: 0.7270\n",
      "  train_iou_class_4: 0.2115\n"
     ]
    },
    {
     "data": {
      "application/vnd.jupyter.widget-view+json": {
       "model_id": "",
       "version_major": 2,
       "version_minor": 0
      },
      "text/plain": [
       "Validation: |          | 0/? [00:00<?, ?it/s]"
      ]
     },
     "metadata": {},
     "output_type": "display_data"
    },
    {
     "name": "stdout",
     "output_type": "stream",
     "text": [
      "\n",
      "Epoch 85 - Metrics for valid:\n",
      "  valid_mean_iou: 0.5512\n",
      "  valid_loss: 0.9808\n",
      "  valid_iou_class_0: NaN\n",
      "  valid_iou_class_1: 0.7106\n",
      "  valid_iou_class_2: 0.6045\n",
      "  valid_iou_class_3: 0.6811\n",
      "  valid_iou_class_4: 0.2084\n",
      "\n",
      "Epoch 85 - Metrics for train:\n",
      "  train_mean_iou: 0.5932\n",
      "  train_loss: 0.8468\n",
      "  train_iou_class_0: NaN\n",
      "  train_iou_class_1: 0.7779\n",
      "  train_iou_class_2: 0.6634\n",
      "  train_iou_class_3: 0.7291\n",
      "  train_iou_class_4: 0.2025\n"
     ]
    },
    {
     "data": {
      "application/vnd.jupyter.widget-view+json": {
       "model_id": "",
       "version_major": 2,
       "version_minor": 0
      },
      "text/plain": [
       "Validation: |          | 0/? [00:00<?, ?it/s]"
      ]
     },
     "metadata": {},
     "output_type": "display_data"
    },
    {
     "name": "stdout",
     "output_type": "stream",
     "text": [
      "\n",
      "Epoch 86 - Metrics for valid:\n",
      "  valid_mean_iou: 0.5453\n",
      "  valid_loss: 0.9783\n",
      "  valid_iou_class_0: NaN\n",
      "  valid_iou_class_1: 0.7354\n",
      "  valid_iou_class_2: 0.6197\n",
      "  valid_iou_class_3: 0.6598\n",
      "  valid_iou_class_4: 0.1661\n",
      "\n",
      "Epoch 86 - Metrics for train:\n",
      "  train_mean_iou: 0.5971\n",
      "  train_loss: 0.8338\n",
      "  train_iou_class_0: NaN\n",
      "  train_iou_class_1: 0.7751\n",
      "  train_iou_class_2: 0.6707\n",
      "  train_iou_class_3: 0.7254\n",
      "  train_iou_class_4: 0.2174\n"
     ]
    },
    {
     "data": {
      "application/vnd.jupyter.widget-view+json": {
       "model_id": "",
       "version_major": 2,
       "version_minor": 0
      },
      "text/plain": [
       "Validation: |          | 0/? [00:00<?, ?it/s]"
      ]
     },
     "metadata": {},
     "output_type": "display_data"
    },
    {
     "name": "stdout",
     "output_type": "stream",
     "text": [
      "\n",
      "Epoch 87 - Metrics for valid:\n",
      "  valid_mean_iou: 0.5583\n",
      "  valid_loss: 0.9519\n",
      "  valid_iou_class_0: NaN\n",
      "  valid_iou_class_1: 0.7231\n",
      "  valid_iou_class_2: 0.6201\n",
      "  valid_iou_class_3: 0.6637\n",
      "  valid_iou_class_4: 0.2265\n",
      "\n",
      "Epoch 87 - Metrics for train:\n",
      "  train_mean_iou: 0.6030\n",
      "  train_loss: 0.8542\n",
      "  train_iou_class_0: NaN\n",
      "  train_iou_class_1: 0.7740\n",
      "  train_iou_class_2: 0.6729\n",
      "  train_iou_class_3: 0.7313\n",
      "  train_iou_class_4: 0.2338\n"
     ]
    },
    {
     "data": {
      "application/vnd.jupyter.widget-view+json": {
       "model_id": "",
       "version_major": 2,
       "version_minor": 0
      },
      "text/plain": [
       "Validation: |          | 0/? [00:00<?, ?it/s]"
      ]
     },
     "metadata": {},
     "output_type": "display_data"
    },
    {
     "name": "stdout",
     "output_type": "stream",
     "text": [
      "\n",
      "Epoch 88 - Metrics for valid:\n",
      "  valid_mean_iou: 0.4469\n",
      "  valid_loss: 1.1417\n",
      "  valid_iou_class_0: NaN\n",
      "  valid_iou_class_1: 0.6374\n",
      "  valid_iou_class_2: 0.5322\n",
      "  valid_iou_class_3: 0.4711\n",
      "  valid_iou_class_4: 0.1469\n",
      "\n",
      "Epoch 88 - Metrics for train:\n",
      "  train_mean_iou: 0.5991\n",
      "  train_loss: 0.8580\n",
      "  train_iou_class_0: NaN\n",
      "  train_iou_class_1: 0.7658\n",
      "  train_iou_class_2: 0.6675\n",
      "  train_iou_class_3: 0.7247\n",
      "  train_iou_class_4: 0.2384\n"
     ]
    },
    {
     "data": {
      "application/vnd.jupyter.widget-view+json": {
       "model_id": "",
       "version_major": 2,
       "version_minor": 0
      },
      "text/plain": [
       "Validation: |          | 0/? [00:00<?, ?it/s]"
      ]
     },
     "metadata": {},
     "output_type": "display_data"
    },
    {
     "name": "stdout",
     "output_type": "stream",
     "text": [
      "\n",
      "Epoch 89 - Metrics for valid:\n",
      "  valid_mean_iou: 0.5360\n",
      "  valid_loss: 0.9738\n",
      "  valid_iou_class_0: NaN\n",
      "  valid_iou_class_1: 0.7339\n",
      "  valid_iou_class_2: 0.5895\n",
      "  valid_iou_class_3: 0.6613\n",
      "  valid_iou_class_4: 0.1593\n",
      "\n",
      "Epoch 89 - Metrics for train:\n",
      "  train_mean_iou: 0.5988\n",
      "  train_loss: 0.8453\n",
      "  train_iou_class_0: NaN\n",
      "  train_iou_class_1: 0.7732\n",
      "  train_iou_class_2: 0.6642\n",
      "  train_iou_class_3: 0.7324\n",
      "  train_iou_class_4: 0.2252\n"
     ]
    },
    {
     "data": {
      "application/vnd.jupyter.widget-view+json": {
       "model_id": "",
       "version_major": 2,
       "version_minor": 0
      },
      "text/plain": [
       "Validation: |          | 0/? [00:00<?, ?it/s]"
      ]
     },
     "metadata": {},
     "output_type": "display_data"
    },
    {
     "name": "stdout",
     "output_type": "stream",
     "text": [
      "\n",
      "Epoch 90 - Metrics for valid:\n",
      "  valid_mean_iou: 0.3871\n",
      "  valid_loss: 1.2535\n",
      "  valid_iou_class_0: NaN\n",
      "  valid_iou_class_1: 0.5404\n",
      "  valid_iou_class_2: 0.5052\n",
      "  valid_iou_class_3: 0.3812\n",
      "  valid_iou_class_4: 0.1218\n",
      "\n",
      "Epoch 90 - Metrics for train:\n",
      "  train_mean_iou: 0.5945\n",
      "  train_loss: 0.8661\n",
      "  train_iou_class_0: NaN\n",
      "  train_iou_class_1: 0.7730\n",
      "  train_iou_class_2: 0.6671\n",
      "  train_iou_class_3: 0.7253\n",
      "  train_iou_class_4: 0.2125\n"
     ]
    },
    {
     "data": {
      "application/vnd.jupyter.widget-view+json": {
       "model_id": "",
       "version_major": 2,
       "version_minor": 0
      },
      "text/plain": [
       "Validation: |          | 0/? [00:00<?, ?it/s]"
      ]
     },
     "metadata": {},
     "output_type": "display_data"
    },
    {
     "name": "stdout",
     "output_type": "stream",
     "text": [
      "\n",
      "Epoch 91 - Metrics for valid:\n",
      "  valid_mean_iou: 0.5453\n",
      "  valid_loss: 0.9946\n",
      "  valid_iou_class_0: NaN\n",
      "  valid_iou_class_1: 0.6689\n",
      "  valid_iou_class_2: 0.5978\n",
      "  valid_iou_class_3: 0.6891\n",
      "  valid_iou_class_4: 0.2254\n",
      "\n",
      "Epoch 91 - Metrics for train:\n",
      "  train_mean_iou: 0.5929\n",
      "  train_loss: 0.8435\n",
      "  train_iou_class_0: NaN\n",
      "  train_iou_class_1: 0.7714\n",
      "  train_iou_class_2: 0.6769\n",
      "  train_iou_class_3: 0.7272\n",
      "  train_iou_class_4: 0.1960\n"
     ]
    },
    {
     "data": {
      "application/vnd.jupyter.widget-view+json": {
       "model_id": "",
       "version_major": 2,
       "version_minor": 0
      },
      "text/plain": [
       "Validation: |          | 0/? [00:00<?, ?it/s]"
      ]
     },
     "metadata": {},
     "output_type": "display_data"
    },
    {
     "name": "stdout",
     "output_type": "stream",
     "text": [
      "\n",
      "Epoch 92 - Metrics for valid:\n",
      "  valid_mean_iou: 0.5448\n",
      "  valid_loss: 0.9615\n",
      "  valid_iou_class_0: NaN\n",
      "  valid_iou_class_1: 0.7384\n",
      "  valid_iou_class_2: 0.6182\n",
      "  valid_iou_class_3: 0.6549\n",
      "  valid_iou_class_4: 0.1678\n",
      "\n",
      "Epoch 92 - Metrics for train:\n",
      "  train_mean_iou: 0.5931\n",
      "  train_loss: 0.8482\n",
      "  train_iou_class_0: NaN\n",
      "  train_iou_class_1: 0.7743\n",
      "  train_iou_class_2: 0.6760\n",
      "  train_iou_class_3: 0.7322\n",
      "  train_iou_class_4: 0.1900\n"
     ]
    },
    {
     "data": {
      "application/vnd.jupyter.widget-view+json": {
       "model_id": "",
       "version_major": 2,
       "version_minor": 0
      },
      "text/plain": [
       "Validation: |          | 0/? [00:00<?, ?it/s]"
      ]
     },
     "metadata": {},
     "output_type": "display_data"
    },
    {
     "name": "stdout",
     "output_type": "stream",
     "text": [
      "\n",
      "Epoch 93 - Metrics for valid:\n",
      "  valid_mean_iou: 0.5424\n",
      "  valid_loss: 0.9323\n",
      "  valid_iou_class_0: NaN\n",
      "  valid_iou_class_1: 0.7423\n",
      "  valid_iou_class_2: 0.6169\n",
      "  valid_iou_class_3: 0.6668\n",
      "  valid_iou_class_4: 0.1437\n",
      "\n",
      "Epoch 93 - Metrics for train:\n",
      "  train_mean_iou: 0.5936\n",
      "  train_loss: 0.8470\n",
      "  train_iou_class_0: NaN\n",
      "  train_iou_class_1: 0.7774\n",
      "  train_iou_class_2: 0.6740\n",
      "  train_iou_class_3: 0.7300\n",
      "  train_iou_class_4: 0.1929\n"
     ]
    },
    {
     "data": {
      "application/vnd.jupyter.widget-view+json": {
       "model_id": "",
       "version_major": 2,
       "version_minor": 0
      },
      "text/plain": [
       "Validation: |          | 0/? [00:00<?, ?it/s]"
      ]
     },
     "metadata": {},
     "output_type": "display_data"
    },
    {
     "name": "stdout",
     "output_type": "stream",
     "text": [
      "\n",
      "Epoch 94 - Metrics for valid:\n",
      "  valid_mean_iou: 0.3927\n",
      "  valid_loss: 1.2533\n",
      "  valid_iou_class_0: NaN\n",
      "  valid_iou_class_1: 0.5193\n",
      "  valid_iou_class_2: 0.4948\n",
      "  valid_iou_class_3: 0.4054\n",
      "  valid_iou_class_4: 0.1513\n",
      "\n",
      "Epoch 94 - Metrics for train:\n",
      "  train_mean_iou: 0.5907\n",
      "  train_loss: 0.8543\n",
      "  train_iou_class_0: NaN\n",
      "  train_iou_class_1: 0.7713\n",
      "  train_iou_class_2: 0.6709\n",
      "  train_iou_class_3: 0.7201\n",
      "  train_iou_class_4: 0.2007\n"
     ]
    },
    {
     "data": {
      "application/vnd.jupyter.widget-view+json": {
       "model_id": "",
       "version_major": 2,
       "version_minor": 0
      },
      "text/plain": [
       "Validation: |          | 0/? [00:00<?, ?it/s]"
      ]
     },
     "metadata": {},
     "output_type": "display_data"
    },
    {
     "name": "stdout",
     "output_type": "stream",
     "text": [
      "\n",
      "Epoch 95 - Metrics for valid:\n",
      "  valid_mean_iou: 0.5330\n",
      "  valid_loss: 0.9808\n",
      "  valid_iou_class_0: NaN\n",
      "  valid_iou_class_1: 0.7201\n",
      "  valid_iou_class_2: 0.6164\n",
      "  valid_iou_class_3: 0.5872\n",
      "  valid_iou_class_4: 0.2086\n",
      "\n",
      "Epoch 95 - Metrics for train:\n",
      "  train_mean_iou: 0.5868\n",
      "  train_loss: 0.8623\n",
      "  train_iou_class_0: NaN\n",
      "  train_iou_class_1: 0.7749\n",
      "  train_iou_class_2: 0.6668\n",
      "  train_iou_class_3: 0.7149\n",
      "  train_iou_class_4: 0.1904\n"
     ]
    },
    {
     "data": {
      "application/vnd.jupyter.widget-view+json": {
       "model_id": "",
       "version_major": 2,
       "version_minor": 0
      },
      "text/plain": [
       "Validation: |          | 0/? [00:00<?, ?it/s]"
      ]
     },
     "metadata": {},
     "output_type": "display_data"
    },
    {
     "name": "stdout",
     "output_type": "stream",
     "text": [
      "\n",
      "Epoch 96 - Metrics for valid:\n",
      "  valid_mean_iou: 0.5485\n",
      "  valid_loss: 0.9643\n",
      "  valid_iou_class_0: NaN\n",
      "  valid_iou_class_1: 0.7390\n",
      "  valid_iou_class_2: 0.5970\n",
      "  valid_iou_class_3: 0.6532\n",
      "  valid_iou_class_4: 0.2047\n",
      "\n",
      "Epoch 96 - Metrics for train:\n",
      "  train_mean_iou: 0.5933\n",
      "  train_loss: 0.8675\n",
      "  train_iou_class_0: NaN\n",
      "  train_iou_class_1: 0.7665\n",
      "  train_iou_class_2: 0.6708\n",
      "  train_iou_class_3: 0.7169\n",
      "  train_iou_class_4: 0.2187\n"
     ]
    },
    {
     "data": {
      "application/vnd.jupyter.widget-view+json": {
       "model_id": "",
       "version_major": 2,
       "version_minor": 0
      },
      "text/plain": [
       "Validation: |          | 0/? [00:00<?, ?it/s]"
      ]
     },
     "metadata": {},
     "output_type": "display_data"
    },
    {
     "name": "stdout",
     "output_type": "stream",
     "text": [
      "\n",
      "Epoch 97 - Metrics for valid:\n",
      "  valid_mean_iou: 0.5379\n",
      "  valid_loss: 1.0167\n",
      "  valid_iou_class_0: NaN\n",
      "  valid_iou_class_1: 0.6352\n",
      "  valid_iou_class_2: 0.6000\n",
      "  valid_iou_class_3: 0.6699\n",
      "  valid_iou_class_4: 0.2467\n",
      "\n",
      "Epoch 97 - Metrics for train:\n",
      "  train_mean_iou: 0.5991\n",
      "  train_loss: 0.8644\n",
      "  train_iou_class_0: NaN\n",
      "  train_iou_class_1: 0.7742\n",
      "  train_iou_class_2: 0.6688\n",
      "  train_iou_class_3: 0.7324\n",
      "  train_iou_class_4: 0.2212\n"
     ]
    },
    {
     "data": {
      "application/vnd.jupyter.widget-view+json": {
       "model_id": "",
       "version_major": 2,
       "version_minor": 0
      },
      "text/plain": [
       "Validation: |          | 0/? [00:00<?, ?it/s]"
      ]
     },
     "metadata": {},
     "output_type": "display_data"
    },
    {
     "name": "stdout",
     "output_type": "stream",
     "text": [
      "\n",
      "Epoch 98 - Metrics for valid:\n",
      "  valid_mean_iou: 0.5640\n",
      "  valid_loss: 0.9740\n",
      "  valid_iou_class_0: NaN\n",
      "  valid_iou_class_1: 0.7103\n",
      "  valid_iou_class_2: 0.6201\n",
      "  valid_iou_class_3: 0.6890\n",
      "  valid_iou_class_4: 0.2367\n",
      "\n",
      "Epoch 98 - Metrics for train:\n",
      "  train_mean_iou: 0.5949\n",
      "  train_loss: 0.8545\n",
      "  train_iou_class_0: NaN\n",
      "  train_iou_class_1: 0.7721\n",
      "  train_iou_class_2: 0.6704\n",
      "  train_iou_class_3: 0.7299\n",
      "  train_iou_class_4: 0.2071\n"
     ]
    },
    {
     "data": {
      "application/vnd.jupyter.widget-view+json": {
       "model_id": "",
       "version_major": 2,
       "version_minor": 0
      },
      "text/plain": [
       "Validation: |          | 0/? [00:00<?, ?it/s]"
      ]
     },
     "metadata": {},
     "output_type": "display_data"
    },
    {
     "name": "stdout",
     "output_type": "stream",
     "text": [
      "\n",
      "Epoch 99 - Metrics for valid:\n",
      "  valid_mean_iou: 0.5365\n",
      "  valid_loss: 1.0123\n",
      "  valid_iou_class_0: NaN\n",
      "  valid_iou_class_1: 0.7195\n",
      "  valid_iou_class_2: 0.5749\n",
      "  valid_iou_class_3: 0.6307\n",
      "  valid_iou_class_4: 0.2208\n",
      "\n",
      "Epoch 99 - Metrics for train:\n",
      "  train_mean_iou: 0.6001\n",
      "  train_loss: 0.8514\n",
      "  train_iou_class_0: NaN\n",
      "  train_iou_class_1: 0.7732\n",
      "  train_iou_class_2: 0.6732\n",
      "  train_iou_class_3: 0.7376\n",
      "  train_iou_class_4: 0.2166\n"
     ]
    },
    {
     "data": {
      "application/vnd.jupyter.widget-view+json": {
       "model_id": "",
       "version_major": 2,
       "version_minor": 0
      },
      "text/plain": [
       "Validation: |          | 0/? [00:00<?, ?it/s]"
      ]
     },
     "metadata": {},
     "output_type": "display_data"
    },
    {
     "name": "stdout",
     "output_type": "stream",
     "text": [
      "\n",
      "Epoch 100 - Metrics for valid:\n",
      "  valid_mean_iou: 0.5355\n",
      "  valid_loss: 0.9848\n",
      "  valid_iou_class_0: NaN\n",
      "  valid_iou_class_1: 0.7260\n",
      "  valid_iou_class_2: 0.5932\n",
      "  valid_iou_class_3: 0.6638\n",
      "  valid_iou_class_4: 0.1590\n",
      "\n",
      "Epoch 100 - Metrics for train:\n",
      "  train_mean_iou: 0.5898\n",
      "  train_loss: 0.8705\n",
      "  train_iou_class_0: NaN\n",
      "  train_iou_class_1: 0.7768\n",
      "  train_iou_class_2: 0.6720\n",
      "  train_iou_class_3: 0.7255\n",
      "  train_iou_class_4: 0.1847\n"
     ]
    },
    {
     "data": {
      "application/vnd.jupyter.widget-view+json": {
       "model_id": "",
       "version_major": 2,
       "version_minor": 0
      },
      "text/plain": [
       "Validation: |          | 0/? [00:00<?, ?it/s]"
      ]
     },
     "metadata": {},
     "output_type": "display_data"
    },
    {
     "name": "stdout",
     "output_type": "stream",
     "text": [
      "\n",
      "Epoch 101 - Metrics for valid:\n",
      "  valid_mean_iou: 0.5744\n",
      "  valid_loss: 0.9320\n",
      "  valid_iou_class_0: NaN\n",
      "  valid_iou_class_1: 0.7448\n",
      "  valid_iou_class_2: 0.6040\n",
      "  valid_iou_class_3: 0.6946\n",
      "  valid_iou_class_4: 0.2540\n",
      "\n",
      "Epoch 101 - Metrics for train:\n",
      "  train_mean_iou: 0.5964\n",
      "  train_loss: 0.8365\n",
      "  train_iou_class_0: NaN\n",
      "  train_iou_class_1: 0.7746\n",
      "  train_iou_class_2: 0.6721\n",
      "  train_iou_class_3: 0.7408\n",
      "  train_iou_class_4: 0.1982\n"
     ]
    },
    {
     "data": {
      "application/vnd.jupyter.widget-view+json": {
       "model_id": "",
       "version_major": 2,
       "version_minor": 0
      },
      "text/plain": [
       "Validation: |          | 0/? [00:00<?, ?it/s]"
      ]
     },
     "metadata": {},
     "output_type": "display_data"
    },
    {
     "name": "stdout",
     "output_type": "stream",
     "text": [
      "\n",
      "Epoch 102 - Metrics for valid:\n",
      "  valid_mean_iou: 0.5585\n",
      "  valid_loss: 0.9725\n",
      "  valid_iou_class_0: NaN\n",
      "  valid_iou_class_1: 0.7319\n",
      "  valid_iou_class_2: 0.6227\n",
      "  valid_iou_class_3: 0.6741\n",
      "  valid_iou_class_4: 0.2054\n",
      "\n",
      "Epoch 102 - Metrics for train:\n",
      "  train_mean_iou: 0.5951\n",
      "  train_loss: 0.8320\n",
      "  train_iou_class_0: NaN\n",
      "  train_iou_class_1: 0.7797\n",
      "  train_iou_class_2: 0.6745\n",
      "  train_iou_class_3: 0.7299\n",
      "  train_iou_class_4: 0.1961\n"
     ]
    },
    {
     "data": {
      "application/vnd.jupyter.widget-view+json": {
       "model_id": "",
       "version_major": 2,
       "version_minor": 0
      },
      "text/plain": [
       "Validation: |          | 0/? [00:00<?, ?it/s]"
      ]
     },
     "metadata": {},
     "output_type": "display_data"
    },
    {
     "name": "stdout",
     "output_type": "stream",
     "text": [
      "\n",
      "Epoch 103 - Metrics for valid:\n",
      "  valid_mean_iou: 0.5600\n",
      "  valid_loss: 0.9491\n",
      "  valid_iou_class_0: NaN\n",
      "  valid_iou_class_1: 0.7336\n",
      "  valid_iou_class_2: 0.6218\n",
      "  valid_iou_class_3: 0.6661\n",
      "  valid_iou_class_4: 0.2185\n",
      "\n",
      "Epoch 103 - Metrics for train:\n",
      "  train_mean_iou: 0.5971\n",
      "  train_loss: 0.8398\n",
      "  train_iou_class_0: NaN\n",
      "  train_iou_class_1: 0.7782\n",
      "  train_iou_class_2: 0.6759\n",
      "  train_iou_class_3: 0.7337\n",
      "  train_iou_class_4: 0.2005\n"
     ]
    },
    {
     "data": {
      "application/vnd.jupyter.widget-view+json": {
       "model_id": "",
       "version_major": 2,
       "version_minor": 0
      },
      "text/plain": [
       "Validation: |          | 0/? [00:00<?, ?it/s]"
      ]
     },
     "metadata": {},
     "output_type": "display_data"
    },
    {
     "name": "stdout",
     "output_type": "stream",
     "text": [
      "\n",
      "Epoch 104 - Metrics for valid:\n",
      "  valid_mean_iou: 0.5625\n",
      "  valid_loss: 0.9796\n",
      "  valid_iou_class_0: NaN\n",
      "  valid_iou_class_1: 0.7251\n",
      "  valid_iou_class_2: 0.6142\n",
      "  valid_iou_class_3: 0.6732\n",
      "  valid_iou_class_4: 0.2374\n",
      "\n",
      "Epoch 104 - Metrics for train:\n",
      "  train_mean_iou: 0.6044\n",
      "  train_loss: 0.8361\n",
      "  train_iou_class_0: NaN\n",
      "  train_iou_class_1: 0.7768\n",
      "  train_iou_class_2: 0.6797\n",
      "  train_iou_class_3: 0.7403\n",
      "  train_iou_class_4: 0.2208\n"
     ]
    },
    {
     "data": {
      "application/vnd.jupyter.widget-view+json": {
       "model_id": "",
       "version_major": 2,
       "version_minor": 0
      },
      "text/plain": [
       "Validation: |          | 0/? [00:00<?, ?it/s]"
      ]
     },
     "metadata": {},
     "output_type": "display_data"
    },
    {
     "name": "stdout",
     "output_type": "stream",
     "text": [
      "\n",
      "Epoch 105 - Metrics for valid:\n",
      "  valid_mean_iou: 0.5619\n",
      "  valid_loss: 0.9914\n",
      "  valid_iou_class_0: NaN\n",
      "  valid_iou_class_1: 0.7028\n",
      "  valid_iou_class_2: 0.6070\n",
      "  valid_iou_class_3: 0.6970\n",
      "  valid_iou_class_4: 0.2408\n",
      "\n",
      "Epoch 105 - Metrics for train:\n",
      "  train_mean_iou: 0.6024\n",
      "  train_loss: 0.8484\n",
      "  train_iou_class_0: NaN\n",
      "  train_iou_class_1: 0.7761\n",
      "  train_iou_class_2: 0.6797\n",
      "  train_iou_class_3: 0.7391\n",
      "  train_iou_class_4: 0.2146\n"
     ]
    },
    {
     "data": {
      "application/vnd.jupyter.widget-view+json": {
       "model_id": "",
       "version_major": 2,
       "version_minor": 0
      },
      "text/plain": [
       "Validation: |          | 0/? [00:00<?, ?it/s]"
      ]
     },
     "metadata": {},
     "output_type": "display_data"
    },
    {
     "name": "stdout",
     "output_type": "stream",
     "text": [
      "\n",
      "Epoch 106 - Metrics for valid:\n",
      "  valid_mean_iou: 0.5612\n",
      "  valid_loss: 0.9503\n",
      "  valid_iou_class_0: NaN\n",
      "  valid_iou_class_1: 0.7363\n",
      "  valid_iou_class_2: 0.6205\n",
      "  valid_iou_class_3: 0.6601\n",
      "  valid_iou_class_4: 0.2278\n",
      "\n",
      "Epoch 106 - Metrics for train:\n",
      "  train_mean_iou: 0.6063\n",
      "  train_loss: 0.8303\n",
      "  train_iou_class_0: NaN\n",
      "  train_iou_class_1: 0.7751\n",
      "  train_iou_class_2: 0.6821\n",
      "  train_iou_class_3: 0.7394\n",
      "  train_iou_class_4: 0.2285\n"
     ]
    },
    {
     "data": {
      "application/vnd.jupyter.widget-view+json": {
       "model_id": "",
       "version_major": 2,
       "version_minor": 0
      },
      "text/plain": [
       "Validation: |          | 0/? [00:00<?, ?it/s]"
      ]
     },
     "metadata": {},
     "output_type": "display_data"
    },
    {
     "name": "stdout",
     "output_type": "stream",
     "text": [
      "\n",
      "Epoch 107 - Metrics for valid:\n",
      "  valid_mean_iou: 0.5485\n",
      "  valid_loss: 0.9903\n",
      "  valid_iou_class_0: NaN\n",
      "  valid_iou_class_1: 0.6708\n",
      "  valid_iou_class_2: 0.5992\n",
      "  valid_iou_class_3: 0.6821\n",
      "  valid_iou_class_4: 0.2418\n",
      "\n",
      "Epoch 107 - Metrics for train:\n",
      "  train_mean_iou: 0.6031\n",
      "  train_loss: 0.8340\n",
      "  train_iou_class_0: NaN\n",
      "  train_iou_class_1: 0.7773\n",
      "  train_iou_class_2: 0.6825\n",
      "  train_iou_class_3: 0.7377\n",
      "  train_iou_class_4: 0.2151\n"
     ]
    },
    {
     "data": {
      "application/vnd.jupyter.widget-view+json": {
       "model_id": "",
       "version_major": 2,
       "version_minor": 0
      },
      "text/plain": [
       "Validation: |          | 0/? [00:00<?, ?it/s]"
      ]
     },
     "metadata": {},
     "output_type": "display_data"
    },
    {
     "name": "stdout",
     "output_type": "stream",
     "text": [
      "\n",
      "Epoch 108 - Metrics for valid:\n",
      "  valid_mean_iou: 0.5478\n",
      "  valid_loss: 0.9753\n",
      "  valid_iou_class_0: NaN\n",
      "  valid_iou_class_1: 0.7271\n",
      "  valid_iou_class_2: 0.6082\n",
      "  valid_iou_class_3: 0.6855\n",
      "  valid_iou_class_4: 0.1703\n",
      "\n",
      "Epoch 108 - Metrics for train:\n",
      "  train_mean_iou: 0.6020\n",
      "  train_loss: 0.8405\n",
      "  train_iou_class_0: NaN\n",
      "  train_iou_class_1: 0.7799\n",
      "  train_iou_class_2: 0.6705\n",
      "  train_iou_class_3: 0.7369\n",
      "  train_iou_class_4: 0.2208\n"
     ]
    },
    {
     "data": {
      "application/vnd.jupyter.widget-view+json": {
       "model_id": "",
       "version_major": 2,
       "version_minor": 0
      },
      "text/plain": [
       "Validation: |          | 0/? [00:00<?, ?it/s]"
      ]
     },
     "metadata": {},
     "output_type": "display_data"
    },
    {
     "name": "stdout",
     "output_type": "stream",
     "text": [
      "\n",
      "Epoch 109 - Metrics for valid:\n",
      "  valid_mean_iou: 0.5513\n",
      "  valid_loss: 0.9761\n",
      "  valid_iou_class_0: NaN\n",
      "  valid_iou_class_1: 0.6865\n",
      "  valid_iou_class_2: 0.6141\n",
      "  valid_iou_class_3: 0.6628\n",
      "  valid_iou_class_4: 0.2417\n",
      "\n",
      "Epoch 109 - Metrics for train:\n",
      "  train_mean_iou: 0.5926\n",
      "  train_loss: 0.8458\n",
      "  train_iou_class_0: NaN\n",
      "  train_iou_class_1: 0.7770\n",
      "  train_iou_class_2: 0.6675\n",
      "  train_iou_class_3: 0.7171\n",
      "  train_iou_class_4: 0.2089\n"
     ]
    },
    {
     "data": {
      "application/vnd.jupyter.widget-view+json": {
       "model_id": "",
       "version_major": 2,
       "version_minor": 0
      },
      "text/plain": [
       "Validation: |          | 0/? [00:00<?, ?it/s]"
      ]
     },
     "metadata": {},
     "output_type": "display_data"
    },
    {
     "name": "stdout",
     "output_type": "stream",
     "text": [
      "\n",
      "Epoch 110 - Metrics for valid:\n",
      "  valid_mean_iou: 0.4488\n",
      "  valid_loss: 1.1433\n",
      "  valid_iou_class_0: NaN\n",
      "  valid_iou_class_1: 0.6300\n",
      "  valid_iou_class_2: 0.5243\n",
      "  valid_iou_class_3: 0.4884\n",
      "  valid_iou_class_4: 0.1523\n",
      "\n",
      "Epoch 110 - Metrics for train:\n",
      "  train_mean_iou: 0.6001\n",
      "  train_loss: 0.8555\n",
      "  train_iou_class_0: NaN\n",
      "  train_iou_class_1: 0.7765\n",
      "  train_iou_class_2: 0.6712\n",
      "  train_iou_class_3: 0.7317\n",
      "  train_iou_class_4: 0.2211\n"
     ]
    },
    {
     "data": {
      "application/vnd.jupyter.widget-view+json": {
       "model_id": "",
       "version_major": 2,
       "version_minor": 0
      },
      "text/plain": [
       "Validation: |          | 0/? [00:00<?, ?it/s]"
      ]
     },
     "metadata": {},
     "output_type": "display_data"
    },
    {
     "name": "stdout",
     "output_type": "stream",
     "text": [
      "\n",
      "Epoch 111 - Metrics for valid:\n",
      "  valid_mean_iou: 0.5540\n",
      "  valid_loss: 0.9631\n",
      "  valid_iou_class_0: NaN\n",
      "  valid_iou_class_1: 0.6826\n",
      "  valid_iou_class_2: 0.6075\n",
      "  valid_iou_class_3: 0.6970\n",
      "  valid_iou_class_4: 0.2288\n",
      "\n",
      "Epoch 111 - Metrics for train:\n",
      "  train_mean_iou: 0.5929\n",
      "  train_loss: 0.8370\n",
      "  train_iou_class_0: NaN\n",
      "  train_iou_class_1: 0.7817\n",
      "  train_iou_class_2: 0.6655\n",
      "  train_iou_class_3: 0.7290\n",
      "  train_iou_class_4: 0.1952\n"
     ]
    },
    {
     "data": {
      "application/vnd.jupyter.widget-view+json": {
       "model_id": "",
       "version_major": 2,
       "version_minor": 0
      },
      "text/plain": [
       "Validation: |          | 0/? [00:00<?, ?it/s]"
      ]
     },
     "metadata": {},
     "output_type": "display_data"
    },
    {
     "name": "stdout",
     "output_type": "stream",
     "text": [
      "\n",
      "Epoch 112 - Metrics for valid:\n",
      "  valid_mean_iou: 0.5561\n",
      "  valid_loss: 0.9592\n",
      "  valid_iou_class_0: NaN\n",
      "  valid_iou_class_1: 0.7345\n",
      "  valid_iou_class_2: 0.6110\n",
      "  valid_iou_class_3: 0.6533\n",
      "  valid_iou_class_4: 0.2255\n",
      "\n",
      "Epoch 112 - Metrics for train:\n",
      "  train_mean_iou: 0.5998\n",
      "  train_loss: 0.8377\n",
      "  train_iou_class_0: NaN\n",
      "  train_iou_class_1: 0.7775\n",
      "  train_iou_class_2: 0.6766\n",
      "  train_iou_class_3: 0.7307\n",
      "  train_iou_class_4: 0.2144\n"
     ]
    },
    {
     "data": {
      "application/vnd.jupyter.widget-view+json": {
       "model_id": "",
       "version_major": 2,
       "version_minor": 0
      },
      "text/plain": [
       "Validation: |          | 0/? [00:00<?, ?it/s]"
      ]
     },
     "metadata": {},
     "output_type": "display_data"
    },
    {
     "name": "stdout",
     "output_type": "stream",
     "text": [
      "\n",
      "Epoch 113 - Metrics for valid:\n",
      "  valid_mean_iou: 0.5529\n",
      "  valid_loss: 0.9659\n",
      "  valid_iou_class_0: NaN\n",
      "  valid_iou_class_1: 0.7409\n",
      "  valid_iou_class_2: 0.6096\n",
      "  valid_iou_class_3: 0.6676\n",
      "  valid_iou_class_4: 0.1935\n",
      "\n",
      "Epoch 113 - Metrics for train:\n",
      "  train_mean_iou: 0.6032\n",
      "  train_loss: 0.8294\n",
      "  train_iou_class_0: NaN\n",
      "  train_iou_class_1: 0.7850\n",
      "  train_iou_class_2: 0.6720\n",
      "  train_iou_class_3: 0.7394\n",
      "  train_iou_class_4: 0.2164\n"
     ]
    },
    {
     "data": {
      "application/vnd.jupyter.widget-view+json": {
       "model_id": "",
       "version_major": 2,
       "version_minor": 0
      },
      "text/plain": [
       "Validation: |          | 0/? [00:00<?, ?it/s]"
      ]
     },
     "metadata": {},
     "output_type": "display_data"
    },
    {
     "name": "stdout",
     "output_type": "stream",
     "text": [
      "\n",
      "Epoch 114 - Metrics for valid:\n",
      "  valid_mean_iou: 0.5730\n",
      "  valid_loss: 0.9633\n",
      "  valid_iou_class_0: NaN\n",
      "  valid_iou_class_1: 0.7149\n",
      "  valid_iou_class_2: 0.6149\n",
      "  valid_iou_class_3: 0.6964\n",
      "  valid_iou_class_4: 0.2658\n",
      "\n",
      "Epoch 114 - Metrics for train:\n",
      "  train_mean_iou: 0.6076\n",
      "  train_loss: 0.8404\n",
      "  train_iou_class_0: NaN\n",
      "  train_iou_class_1: 0.7826\n",
      "  train_iou_class_2: 0.6783\n",
      "  train_iou_class_3: 0.7354\n",
      "  train_iou_class_4: 0.2341\n"
     ]
    },
    {
     "data": {
      "application/vnd.jupyter.widget-view+json": {
       "model_id": "",
       "version_major": 2,
       "version_minor": 0
      },
      "text/plain": [
       "Validation: |          | 0/? [00:00<?, ?it/s]"
      ]
     },
     "metadata": {},
     "output_type": "display_data"
    },
    {
     "name": "stdout",
     "output_type": "stream",
     "text": [
      "\n",
      "Epoch 115 - Metrics for valid:\n",
      "  valid_mean_iou: 0.5490\n",
      "  valid_loss: 0.9676\n",
      "  valid_iou_class_0: NaN\n",
      "  valid_iou_class_1: 0.7311\n",
      "  valid_iou_class_2: 0.6277\n",
      "  valid_iou_class_3: 0.6551\n",
      "  valid_iou_class_4: 0.1821\n",
      "\n",
      "Epoch 115 - Metrics for train:\n",
      "  train_mean_iou: 0.6025\n",
      "  train_loss: 0.8303\n",
      "  train_iou_class_0: NaN\n",
      "  train_iou_class_1: 0.7846\n",
      "  train_iou_class_2: 0.6775\n",
      "  train_iou_class_3: 0.7388\n",
      "  train_iou_class_4: 0.2093\n"
     ]
    },
    {
     "data": {
      "application/vnd.jupyter.widget-view+json": {
       "model_id": "",
       "version_major": 2,
       "version_minor": 0
      },
      "text/plain": [
       "Validation: |          | 0/? [00:00<?, ?it/s]"
      ]
     },
     "metadata": {},
     "output_type": "display_data"
    },
    {
     "name": "stdout",
     "output_type": "stream",
     "text": [
      "\n",
      "Epoch 116 - Metrics for valid:\n",
      "  valid_mean_iou: 0.5481\n",
      "  valid_loss: 0.9982\n",
      "  valid_iou_class_0: NaN\n",
      "  valid_iou_class_1: 0.7136\n",
      "  valid_iou_class_2: 0.6005\n",
      "  valid_iou_class_3: 0.6402\n",
      "  valid_iou_class_4: 0.2383\n",
      "\n",
      "Epoch 116 - Metrics for train:\n",
      "  train_mean_iou: 0.6046\n",
      "  train_loss: 0.8323\n",
      "  train_iou_class_0: NaN\n",
      "  train_iou_class_1: 0.7833\n",
      "  train_iou_class_2: 0.6791\n",
      "  train_iou_class_3: 0.7402\n",
      "  train_iou_class_4: 0.2158\n"
     ]
    },
    {
     "data": {
      "application/vnd.jupyter.widget-view+json": {
       "model_id": "",
       "version_major": 2,
       "version_minor": 0
      },
      "text/plain": [
       "Validation: |          | 0/? [00:00<?, ?it/s]"
      ]
     },
     "metadata": {},
     "output_type": "display_data"
    },
    {
     "name": "stdout",
     "output_type": "stream",
     "text": [
      "\n",
      "Epoch 117 - Metrics for valid:\n",
      "  valid_mean_iou: 0.5131\n",
      "  valid_loss: 1.0164\n",
      "  valid_iou_class_0: NaN\n",
      "  valid_iou_class_1: 0.6767\n",
      "  valid_iou_class_2: 0.5636\n",
      "  valid_iou_class_3: 0.6652\n",
      "  valid_iou_class_4: 0.1468\n",
      "\n",
      "Epoch 117 - Metrics for train:\n",
      "  train_mean_iou: 0.6048\n",
      "  train_loss: 0.8249\n",
      "  train_iou_class_0: NaN\n",
      "  train_iou_class_1: 0.7799\n",
      "  train_iou_class_2: 0.6757\n",
      "  train_iou_class_3: 0.7303\n",
      "  train_iou_class_4: 0.2331\n"
     ]
    },
    {
     "data": {
      "application/vnd.jupyter.widget-view+json": {
       "model_id": "",
       "version_major": 2,
       "version_minor": 0
      },
      "text/plain": [
       "Validation: |          | 0/? [00:00<?, ?it/s]"
      ]
     },
     "metadata": {},
     "output_type": "display_data"
    },
    {
     "name": "stdout",
     "output_type": "stream",
     "text": [
      "\n",
      "Epoch 118 - Metrics for valid:\n",
      "  valid_mean_iou: 0.5670\n",
      "  valid_loss: 0.9669\n",
      "  valid_iou_class_0: NaN\n",
      "  valid_iou_class_1: 0.7327\n",
      "  valid_iou_class_2: 0.6168\n",
      "  valid_iou_class_3: 0.6787\n",
      "  valid_iou_class_4: 0.2397\n",
      "\n",
      "Epoch 118 - Metrics for train:\n",
      "  train_mean_iou: 0.5991\n",
      "  train_loss: 0.8279\n",
      "  train_iou_class_0: NaN\n",
      "  train_iou_class_1: 0.7847\n",
      "  train_iou_class_2: 0.6733\n",
      "  train_iou_class_3: 0.7384\n",
      "  train_iou_class_4: 0.1999\n"
     ]
    },
    {
     "data": {
      "application/vnd.jupyter.widget-view+json": {
       "model_id": "",
       "version_major": 2,
       "version_minor": 0
      },
      "text/plain": [
       "Validation: |          | 0/? [00:00<?, ?it/s]"
      ]
     },
     "metadata": {},
     "output_type": "display_data"
    },
    {
     "name": "stdout",
     "output_type": "stream",
     "text": [
      "\n",
      "Epoch 119 - Metrics for valid:\n",
      "  valid_mean_iou: 0.5757\n",
      "  valid_loss: 0.9564\n",
      "  valid_iou_class_0: NaN\n",
      "  valid_iou_class_1: 0.7268\n",
      "  valid_iou_class_2: 0.6222\n",
      "  valid_iou_class_3: 0.6861\n",
      "  valid_iou_class_4: 0.2677\n",
      "\n",
      "Epoch 119 - Metrics for train:\n",
      "  train_mean_iou: 0.6118\n",
      "  train_loss: 0.8205\n",
      "  train_iou_class_0: NaN\n",
      "  train_iou_class_1: 0.7832\n",
      "  train_iou_class_2: 0.6779\n",
      "  train_iou_class_3: 0.7440\n",
      "  train_iou_class_4: 0.2421\n"
     ]
    },
    {
     "data": {
      "application/vnd.jupyter.widget-view+json": {
       "model_id": "",
       "version_major": 2,
       "version_minor": 0
      },
      "text/plain": [
       "Validation: |          | 0/? [00:00<?, ?it/s]"
      ]
     },
     "metadata": {},
     "output_type": "display_data"
    },
    {
     "name": "stdout",
     "output_type": "stream",
     "text": [
      "\n",
      "Epoch 120 - Metrics for valid:\n",
      "  valid_mean_iou: 0.5690\n",
      "  valid_loss: 0.9385\n",
      "  valid_iou_class_0: NaN\n",
      "  valid_iou_class_1: 0.7347\n",
      "  valid_iou_class_2: 0.6204\n",
      "  valid_iou_class_3: 0.6708\n",
      "  valid_iou_class_4: 0.2502\n",
      "\n",
      "Epoch 120 - Metrics for train:\n",
      "  train_mean_iou: 0.6108\n",
      "  train_loss: 0.8314\n",
      "  train_iou_class_0: NaN\n",
      "  train_iou_class_1: 0.7842\n",
      "  train_iou_class_2: 0.6810\n",
      "  train_iou_class_3: 0.7428\n",
      "  train_iou_class_4: 0.2352\n"
     ]
    },
    {
     "data": {
      "application/vnd.jupyter.widget-view+json": {
       "model_id": "",
       "version_major": 2,
       "version_minor": 0
      },
      "text/plain": [
       "Validation: |          | 0/? [00:00<?, ?it/s]"
      ]
     },
     "metadata": {},
     "output_type": "display_data"
    },
    {
     "name": "stdout",
     "output_type": "stream",
     "text": [
      "\n",
      "Epoch 121 - Metrics for valid:\n",
      "  valid_mean_iou: 0.5711\n",
      "  valid_loss: 0.9548\n",
      "  valid_iou_class_0: NaN\n",
      "  valid_iou_class_1: 0.7311\n",
      "  valid_iou_class_2: 0.6130\n",
      "  valid_iou_class_3: 0.6812\n",
      "  valid_iou_class_4: 0.2593\n",
      "\n",
      "Epoch 121 - Metrics for train:\n",
      "  train_mean_iou: 0.6085\n",
      "  train_loss: 0.8320\n",
      "  train_iou_class_0: NaN\n",
      "  train_iou_class_1: 0.7859\n",
      "  train_iou_class_2: 0.6804\n",
      "  train_iou_class_3: 0.7446\n",
      "  train_iou_class_4: 0.2233\n"
     ]
    }
   ],
   "source": [
    "from torch.optim.lr_scheduler import ReduceLROnPlateau\n",
    "# Callback for EarlyStopping\n",
    "early_stop_callback = EarlyStopping(\n",
    "    monitor=\"valid_loss\",\n",
    "    mode=\"min\",\n",
    "    patience=20,\n",
    "    verbose=True\n",
    ")\n",
    "\n",
    "# Callback for saving the best model\n",
    "checkpoint_callback = ModelCheckpoint(\n",
    "    monitor=\"valid_mean_iou\",      \n",
    "    mode=\"max\",                \n",
    "    save_top_k=1,              \n",
    "    filename=\"best_model\",     \n",
    "    verbose=True\n",
    ")\n",
    "\n",
    "\n",
    "trainer = pl.Trainer(max_epochs=epochs, \n",
    "                     log_every_n_steps=1,\n",
    "                     callbacks=[checkpoint_callback, early_stop_callback])\n",
    "\n",
    "\n",
    "trainer.fit(model,\n",
    "            train_dataloaders=train_loader,\n",
    "            val_dataloaders=valid_loader)"
   ]
  },
  {
   "cell_type": "code",
   "execution_count": 9,
   "metadata": {
    "execution": {
     "iopub.execute_input": "2024-12-14T15:38:04.106777Z",
     "iopub.status.busy": "2024-12-14T15:38:04.106093Z",
     "iopub.status.idle": "2024-12-14T15:38:04.497056Z",
     "shell.execute_reply": "2024-12-14T15:38:04.496206Z",
     "shell.execute_reply.started": "2024-12-14T15:38:04.106737Z"
    }
   },
   "outputs": [
    {
     "name": "stdout",
     "output_type": "stream",
     "text": [
      "Best model saved at: /kaggle/working/lightning_logs/version_1/checkpoints/best_model.ckpt\n"
     ]
    },
    {
     "name": "stderr",
     "output_type": "stream",
     "text": [
      "/tmp/ipykernel_30/279917671.py:5: FutureWarning: You are using `torch.load` with `weights_only=False` (the current default value), which uses the default pickle module implicitly. It is possible to construct malicious pickle data which will execute arbitrary code during unpickling (See https://github.com/pytorch/pytorch/blob/main/SECURITY.md#untrusted-models for more details). In a future release, the default value for `weights_only` will be flipped to `True`. This limits the functions that could be executed during unpickling. Arbitrary objects will no longer be allowed to be loaded via this mode unless they are explicitly allowlisted by the user via `torch.serialization.add_safe_globals`. We recommend you start setting `weights_only=True` for any use case where you don't have full control of the loaded file. Please open an issue on GitHub for any issues related to this experimental feature.\n",
      "  checkpoint = torch.load(best_model_path)\n"
     ]
    },
    {
     "data": {
      "text/plain": [
       "<All keys matched successfully>"
      ]
     },
     "execution_count": 9,
     "metadata": {},
     "output_type": "execute_result"
    }
   ],
   "source": [
    "best_model_path = checkpoint_callback.best_model_path  \n",
    "print(f\"Best model saved at: {best_model_path}\")\n",
    "\n",
    "\n",
    "checkpoint = torch.load(best_model_path)\n",
    "\n",
    "\n",
    "state_dict = checkpoint['state_dict']\n",
    "\n",
    "\n",
    "model.load_state_dict(state_dict)\n"
   ]
  },
  {
   "cell_type": "code",
   "execution_count": 11,
   "metadata": {
    "execution": {
     "iopub.execute_input": "2024-12-14T15:38:04.507563Z",
     "iopub.status.busy": "2024-12-14T15:38:04.507148Z",
     "iopub.status.idle": "2024-12-14T15:38:09.109731Z",
     "shell.execute_reply": "2024-12-14T15:38:09.108760Z",
     "shell.execute_reply.started": "2024-12-14T15:38:04.507525Z"
    }
   },
   "outputs": [
    {
     "data": {
      "image/png": "[encoded data removed]",
      "text/plain": [
       "<Figure size 1200x600 with 3 Axes>"
      ]
     },
     "metadata": {},
     "output_type": "display_data"
    },
    {
     "data": {
      "image/png": "[encoded data removed]",
      "text/plain": [
       "<Figure size 1200x600 with 3 Axes>"
      ]
     },
     "metadata": {},
     "output_type": "display_data"
    },
    {
     "data": {
      "image/png": "[encoded data removed]",
      "text/plain": [
       "<Figure size 1200x600 with 3 Axes>"
      ]
     },
     "metadata": {},
     "output_type": "display_data"
    },
    {
     "data": {
      "image/png": "[encoded data removed]",
      "text/plain": [
       "<Figure size 1200x600 with 3 Axes>"
      ]
     },
     "metadata": {},
     "output_type": "display_data"
    },
    {
     "data": {
      "image/png": "[encoded data removed]",
      "text/plain": [
       "<Figure size 1200x600 with 3 Axes>"
      ]
     },
     "metadata": {},
     "output_type": "display_data"
    }
   ],
   "source": [
    "# Ottieni un batch dal validation loader\n",
    "images, masks = next(iter(valid_loader))\n",
    "\n",
    "# Passa il modello in modalità di valutazione\n",
    "model.eval()\n",
    "\n",
    "# Disattiva il calcolo del gradiente\n",
    "with torch.no_grad():\n",
    "    # Predizioni del modello (logits)\n",
    "    logits = model(images)  # Shape: [batch_size, num_classes, H, W]\n",
    "\n",
    "    # Applica softmax per ottenere le probabilità\n",
    "    pr_masks = logits.softmax(dim=1)  # Shape: [batch_size, num_classes, H, W]\n",
    "\n",
    "    # Converti le probabilità in etichette predette\n",
    "    pr_masks = pr_masks.argmax(dim=1)  # Shape: [batch_size, H, W]\n",
    "\n",
    "# Visualizza le prime 5 immagini, maschere e predizioni\n",
    "for idx, (image, gt_mask, pr_mask) in enumerate(zip(images, masks, pr_masks)):\n",
    "    if idx < 5:  # Mostra solo i primi 5 campioni\n",
    "        plt.figure(figsize=(12, 6))\n",
    "\n",
    "        # Immagine originale\n",
    "        plt.subplot(1, 3, 1)\n",
    "        plt.imshow(\n",
    "            image.squeeze(0).cpu().numpy(), cmap=\"gray\"\n",
    "        )  # Per grayscale, nessuna trasposizione necessaria\n",
    "        plt.title(\"Image\")\n",
    "        plt.axis(\"off\")\n",
    "\n",
    "        # Ground Truth Mask\n",
    "        plt.subplot(1, 3, 2)\n",
    "        plt.imshow(gt_mask.cpu().numpy(), cmap=\"tab20\")  # Visualizza la maschera ground truth\n",
    "        plt.title(\"Ground truth\")\n",
    "        plt.axis(\"off\")\n",
    "\n",
    "        # Maschera Predetta\n",
    "        plt.subplot(1, 3, 3)\n",
    "        plt.imshow(pr_mask.cpu().numpy(), cmap=\"tab20\")  # Visualizza la maschera predetta\n",
    "        plt.title(\"Prediction\")\n",
    "        plt.axis(\"off\")\n",
    "\n",
    "        # Mostra la figura\n",
    "        plt.show()\n",
    "    else:\n",
    "        break"
   ]
  },
  {
   "cell_type": "code",
   "execution_count": 12,
   "metadata": {
    "execution": {
     "iopub.execute_input": "2024-12-14T15:38:09.111373Z",
     "iopub.status.busy": "2024-12-14T15:38:09.110991Z",
     "iopub.status.idle": "2024-12-14T15:38:09.115992Z",
     "shell.execute_reply": "2024-12-14T15:38:09.115109Z",
     "shell.execute_reply.started": "2024-12-14T15:38:09.111333Z"
    },
    "id": "PtM0ubgdOzG-"
   },
   "outputs": [],
   "source": [
    "timestep_str = datetime.now().strftime(\"%y%m%d_%H%M%S\")\n",
    "model_filename = f\"model_{timestep_str}.pth\"\n"
   ]
  },
  {
   "cell_type": "markdown",
   "metadata": {
    "id": "RNp6pUZuddqC"
   },
   "source": [
    "## 📊 Prepare Your Submission\n",
    "\n",
    "In our Kaggle competition, submissions are made as `csv` files. To create a proper `csv` file, you need to flatten your predictions and include an `id` column as the first column of your dataframe. To maintain consistency between your results and our solution, please avoid shuffling the test set. The code below demonstrates how to prepare the `csv` file from your model predictions.\n",
    "\n"
   ]
  },
  {
   "cell_type": "code",
   "execution_count": 13,
   "metadata": {
    "execution": {
     "iopub.execute_input": "2024-12-14T15:38:09.117481Z",
     "iopub.status.busy": "2024-12-14T15:38:09.117138Z",
     "iopub.status.idle": "2024-12-14T15:41:36.774198Z",
     "shell.execute_reply": "2024-12-14T15:41:36.773217Z",
     "shell.execute_reply.started": "2024-12-14T15:38:09.117442Z"
    },
    "id": "BU00iEFcYi_X"
   },
   "outputs": [
    {
     "name": "stdout",
     "output_type": "stream",
     "text": [
      "Predictions shape: (10022, 64, 128)\n"
     ]
    }
   ],
   "source": [
    "# TensorDataset and DataLoader for X_test_tensor\n",
    "test_dataset = TensorDataset(X_test_tensor)\n",
    "test_loader = DataLoader(test_dataset, batch_size=batch_size, shuffle=False)  \n",
    "\n",
    "\n",
    "all_preds = [] \n",
    "model.eval()  \n",
    "\n",
    "with torch.no_grad():\n",
    "    for batch in test_loader:\n",
    "        images = batch[0]  \n",
    "        logits = model(images)  \n",
    "        preds = logits.softmax(dim=1).argmax(dim=1)  \n",
    "        all_preds.append(preds.cpu().numpy())  \n",
    "\n",
    "\n",
    "all_preds = np.concatenate(all_preds, axis=0)  # Shape: [n_samples, H, W]\n",
    "print(f\"Predictions shape: {all_preds.shape}\")"
   ]
  },
  {
   "cell_type": "code",
   "execution_count": 14,
   "metadata": {
    "execution": {
     "iopub.execute_input": "2024-12-14T15:41:36.775523Z",
     "iopub.status.busy": "2024-12-14T15:41:36.775250Z",
     "iopub.status.idle": "2024-12-14T15:41:36.780921Z",
     "shell.execute_reply": "2024-12-14T15:41:36.779949Z",
     "shell.execute_reply.started": "2024-12-14T15:41:36.775496Z"
    }
   },
   "outputs": [],
   "source": [
    "\n",
    "def y_to_df(y: np.ndarray) -> pd.DataFrame:\n",
    "    \"\"\"Converts segmentation predictions into a DataFrame format for Kaggle.\"\"\"\n",
    "    n_samples = y.shape[0]\n",
    "    y_flat = y.reshape(n_samples, -1)  \n",
    "    df = pd.DataFrame(y_flat)\n",
    "    df[\"id\"] = np.arange(n_samples)  \n",
    "    cols = [\"id\"] + [col for col in df.columns if col != \"id\"]  \n",
    "    return df[cols]"
   ]
  },
  {
   "cell_type": "code",
   "execution_count": 15,
   "metadata": {
    "execution": {
     "iopub.execute_input": "2024-12-14T15:41:36.782302Z",
     "iopub.status.busy": "2024-12-14T15:41:36.782029Z",
     "iopub.status.idle": "2024-12-14T15:41:59.680770Z",
     "shell.execute_reply": "2024-12-14T15:41:59.679763Z",
     "shell.execute_reply.started": "2024-12-14T15:41:36.782278Z"
    },
    "id": "s18kX1uDconq"
   },
   "outputs": [],
   "source": [
    "# Create the csv submission file\n",
    "timestep_str = datetime.now().strftime(\"%y%m%d_%H%M%S\")\n",
    "submission_filename = f\"submission_{timestep_str}.csv\"\n",
    "submission_df = y_to_df(all_preds)\n",
    "submission_df.to_csv(submission_filename, index=False)"
   ]
  },
  {
   "cell_type": "code",
   "execution_count": 16,
   "metadata": {
    "execution": {
     "iopub.execute_input": "2024-12-14T15:41:59.682553Z",
     "iopub.status.busy": "2024-12-14T15:41:59.682154Z",
     "iopub.status.idle": "2024-12-14T15:41:59.690570Z",
     "shell.execute_reply": "2024-12-14T15:41:59.689656Z",
     "shell.execute_reply.started": "2024-12-14T15:41:59.682517Z"
    }
   },
   "outputs": [
    {
     "name": "stdout",
     "output_type": "stream",
     "text": [
      "/kaggle/working\n"
     ]
    },
    {
     "data": {
      "text/html": [
       "<a href='submission_241214_154136.csv' target='_blank'>submission_241214_154136.csv</a><br>"
      ],
      "text/plain": [
       "/kaggle/working/submission_241214_154136.csv"
      ]
     },
     "execution_count": 16,
     "metadata": {},
     "output_type": "execute_result"
    }
   ],
   "source": [
    "%cd /kaggle/working\n",
    "from IPython.display import FileLink\n",
    "FileLink(submission_filename)\n"
   ]
  },
  {
   "cell_type": "code",
   "execution_count": 17,
   "metadata": {
    "execution": {
     "iopub.execute_input": "2024-12-14T15:41:59.692175Z",
     "iopub.status.busy": "2024-12-14T15:41:59.691863Z",
     "iopub.status.idle": "2024-12-14T15:41:59.701368Z",
     "shell.execute_reply": "2024-12-14T15:41:59.700374Z",
     "shell.execute_reply.started": "2024-12-14T15:41:59.692148Z"
    }
   },
   "outputs": [
    {
     "name": "stdout",
     "output_type": "stream",
     "text": [
      "Best val_mean_iou: 0.5757\n"
     ]
    }
   ],
   "source": [
    "def best_metric(checkpoint_callback, metric):\n",
    "        \"\"\"\n",
    "        Extract the best metric value and its epoch from the ModelCheckpoint callback.\n",
    "        \"\"\"\n",
    "        best_value = checkpoint_callback.best_model_score\n",
    "        return best_value.item()  # Convert from PyTorch tensor to float\n",
    "\n",
    "\n",
    "\n",
    "val_mean_iou = best_metric(checkpoint_callback, 'valid_mean_iou')\n",
    "print(f\"Best val_mean_iou: {val_mean_iou:.4f}\")"
   ]
  },
  {
   "cell_type": "markdown",
   "metadata": {
    "id": "cQEgmFTPfz1n"
   },
   "source": [
    "#  \n",
    "<img src=\"https://airlab.deib.polimi.it/wp-content/uploads/2019/07/airlab-logo-new_cropped.png\" width=\"350\">\n",
    "\n",
    "<img src=\"https://upload.wikimedia.org/wikipedia/commons/thumb/9/95/Instagram_logo_2022.svg/800px-Instagram_logo_2022.svg.png\" width=\"15\"> **Instagram:** https://www.instagram.com/airlab_polimi/\n",
    "\n",
    "<img src=\"https://upload.wikimedia.org/wikipedia/commons/thumb/8/81/LinkedIn_icon.svg/2048px-LinkedIn_icon.svg.png\" width=\"15\"> **LinkedIn:** https://www.linkedin.com/company/airlab-polimi/\n",
    "___\n",
    "Credits: Alberto Archetti 📧 alberto.archetti@polito.it\n",
    "\n",
    "\n",
    "\n",
    "\n",
    "\n",
    "```\n",
    "   Copyright 2024 Alberto Archetti\n",
    "\n",
    "   Licensed under the Apache License, Version 2.0 (the \"License\");\n",
    "   you may not use this file except in compliance with the License.\n",
    "   You may obtain a copy of the License at\n",
    "\n",
    "       http://www.apache.org/licenses/LICENSE-2.0\n",
    "\n",
    "   Unless required by applicable law or agreed to in writing, software\n",
    "   distributed under the License is distributed on an \"AS IS\" BASIS,\n",
    "   WITHOUT WARRANTIES OR CONDITIONS OF ANY KIND, either express or implied.\n",
    "   See the License for the specific language governing permissions and\n",
    "   limitations under the License.\n",
    "```"
   ]
  }
 ],
 "metadata": {
  "colab": {
   "provenance": []
  },
  "kaggle": {
   "accelerator": "gpu",
   "dataSources": [
    {
     "datasetId": 6223589,
     "sourceId": 10092552,
     "sourceType": "datasetVersion"
    },
    {
     "datasetId": 6230365,
     "sourceId": 10101329,
     "sourceType": "datasetVersion"
    },
    {
     "datasetId": 6239770,
     "sourceId": 10113648,
     "sourceType": "datasetVersion"
    },
    {
     "datasetId": 6188165,
     "sourceId": 10152438,
     "sourceType": "datasetVersion"
    }
   ],
   "dockerImageVersionId": 30787,
   "isGpuEnabled": true,
   "isInternetEnabled": true,
   "language": "python",
   "sourceType": "notebook"
  },
  "kernelspec": {
   "display_name": "Python 3 (ipykernel)",
   "language": "python",
   "name": "python3"
  },
  "language_info": {
   "codemirror_mode": {
    "name": "ipython",
    "version": 3
   },
   "file_extension": ".py",
   "mimetype": "text/x-python",
   "name": "python",
   "nbconvert_exporter": "python",
   "pygments_lexer": "ipython3",
   "version": "3.12.3"
  }
 },
 "nbformat": 4,
 "nbformat_minor": 4
}
